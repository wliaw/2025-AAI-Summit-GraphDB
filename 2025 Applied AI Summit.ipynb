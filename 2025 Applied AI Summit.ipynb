{
 "cells": [
  {
   "cell_type": "markdown",
   "id": "92784fc3",
   "metadata": {},
   "source": [
    "<div style=\"background: linear-gradient(90deg, #4b0082, #8000ff, #a64bf4); padding: 20px; border-radius: 12px; color: white; text-align: center; box-shadow: 0 4px 12px rgba(0,0,0,0.25); width: 90%; margin: auto;\">\n",
    "  <img src=\"https://github.com/wliaw/2025-AAI-Summit-GraphDB/blob/main/imgs/dd_logo_h_white.png?raw=true\" alt=\"Datadog Logo\" style=\"height: 70px; margin-bottom: 12px;\">\n",
    "  <h1 style=\"margin-bottom: 10px; font-size: 2.4em;\">2025 Applied AI Summit</h1>\n",
    "  <h2 style=\"margin-top: 0; font-weight: 300;\">Introduction to Graph Databases for AI Applications</h2>\n",
    "  <p style=\"margin-top: 15px; font-size: 1.1em; font-style: italic;\">by William Liaw</p>\n",
    "</div>\n"
   ]
  },
  {
   "cell_type": "markdown",
   "id": "67c66702",
   "metadata": {},
   "source": [
    "# 📌 What We'll Do\n",
    "\n",
    "In this notebook, we'll explore the task of **Knowledge Graph Completion (KGC)** — the process of enriching a knowledge graph by predicting and filling in missing information (such as unseen relationships or entities).\n",
    "\n",
    "A **knowledge graph** represents data as a network of entities (**nodes**) connected by relationships (**edges**). However, real-world knowledge graphs are often **incomplete**, with many potential connections missing. KGC aims to infer these missing links or facts by learning from existing patterns and structure in the graph.\n",
    "\n",
    "### 🧠 In this notebook, we will:\n",
    "\n",
    "-   **Query and explore graph data** using Neo4j and Cypher\n",
    "-   **Infer missing links** using rule-based and embedding-based methods\n",
    "-   **Learn graph representations** with graph neural networks (GNNs)\n",
    "-   **Bridge graph data with LLMs** for enhanced reasoning and enrichment\n"
   ]
  },
  {
   "cell_type": "markdown",
   "id": "93014336",
   "metadata": {},
   "source": [
    "# ✅ Recommended Setup\n",
    "\n",
    "<div style=\"\n",
    "  background-color: #fff0f0;\n",
    "  color: #8b0000;\n",
    "  border-left: 5px solid #ff4d4d;\n",
    "  padding: 14px 18px;\n",
    "  border-radius: 8px;\n",
    "  font-size: 15px;\n",
    "  width: 85%;\n",
    "  margin-bottom: 20px;\n",
    "  box-shadow: 0 1px 3px rgba(0,0,0,0.1);\n",
    "\">\n",
    "  ❌ <strong>Error:</strong> Unable to retrieve routing information when using NBT kernels.\n",
    "  <br><br>\n",
    "  This is a known issue when running Neo4j from within certain NBT kernels. To resolve it, we recommend setting up a **local** clean Python environment outside of NBT.\n",
    "</div>\n",
    "\n",
    "Create and activate a virtual environment:\n",
    "\n",
    "```zsh\n",
    "python3 -m venv aai-summit\n",
    "source aai-summit/bin/activate\n",
    "```\n",
    "\n",
    "Upgrade pip:\n",
    "\n",
    "```zsh\n",
    "pip install --upgrade pip\n",
    "```\n",
    "\n",
    "Install required packages:\n",
    "\n",
    "```zsh\n",
    "pip install \\\n",
    "    neo4j graphdatascience \\\n",
    "    tqdm pandas jupyter ipykernel matplotlib seaborn numpy \\\n",
    "    torch torch_geometric \\\n",
    "    pykeen\n",
    "```\n",
    "\n",
    "This setup ensures full compatibility with Neo4j and the PyKEEN library used later in this notebook.\n"
   ]
  },
  {
   "cell_type": "markdown",
   "id": "acee64ba",
   "metadata": {},
   "source": [
    "# 🗂️ Table of Contents\n",
    "\n",
    "1. **Neo4j Basics**  \n",
    "   Get hands-on with Neo4j and the Cypher query language to model and explore graph data.\n",
    "\n",
    "2. **Embedding-Based Methods**  \n",
    "   Learn how to represent entities and relationships as vectors for link prediction and knowledge graph completion.\n",
    "\n",
    "3. **Graph Neural Networks (GNNs)**  \n",
    "   Apply neural models that operate directly on graph structure to capture higher-order dependencies.\n",
    "\n",
    "4. **Large Language Models (LLMs) + Graphs**  \n",
    "   Explore how LLMs can enhance graph reasoning and how graphs can ground or structure LLM responses.\n"
   ]
  },
  {
   "cell_type": "markdown",
   "id": "f520e31e",
   "metadata": {},
   "source": [
    "# 1. Neo4j Basics\n",
    "\n",
    "To get started with this notebook, we'll use [Neo4j Sandbox](https://neo4j.com/sandbox/) — a free, cloud-hosted Neo4j environment perfect for experimentation.\n",
    "\n",
    "**Neo4j** is a native graph database built to efficiently store and query data that is highly interconnected. Instead of traditional rows and tables, Neo4j uses a **property graph model**, where:\n",
    "\n",
    "-   **Nodes** represent entities\n",
    "-   **Relationships (edges)** represent connections between entities\n",
    "-   **Properties** store key-value metadata on both nodes and relationships\n",
    "\n",
    "This structure makes Neo4j ideal for applications like knowledge graphs, where the _relationships themselves_ are first-class citizens.\n",
    "\n",
    "## 🚀 Getting Started with the Neo4j Sandbox\n",
    "\n",
    "1. Visit the [Neo4j Sandbox](https://neo4j.com/sandbox/) and sign in (you may need to create a free account).\n",
    "2. Click **New Project** and choose the **Fraud Detection** template.\n",
    "3. Select **Create and Download credentials** — we’ll use them to connect from Python later on.\n",
    "\n",
    " <div style=\"text-align: center; margin: 16px 0;\">\n",
    "   <img src=\"https://github.com/wliaw/2025-AAI-Summit-GraphDB/blob/main/imgs/Fraud%20Detection.png?raw=true\" alt=\"Neo4j Fraud Detection Sandbox\" style=\"max-width: 600px; width: 100%; border-radius: 8px; box-shadow: 0 4px 12px rgba(0,0,0,0.15);\">\n",
    "   <p style=\"color: #555; font-size: 0.9em; margin-top: 8px;\"><em>Neo4j Sandbox – Fraud Detection Project Setup</em></p>\n",
    " </div>\n",
    "\n",
    "4. Once the environment is ready, click **Open** to access your **Neo4j Browser**.\n",
    "5. Using `:server connect`, connect to your database by clicking **Sandbox Login**.\n",
    "\n",
    " <div style=\"text-align: center; margin: 16px 0;\">\n",
    "   <img src=\"https://github.com/wliaw/2025-AAI-Summit-GraphDB/blob/main/imgs/Sandbox%20Login.png?raw=true\" alt=\"Neo4j Fraud Detection Sandbox\" style=\"max-width: 600px; width: 100%; border-radius: 8px; box-shadow: 0 4px 12px rgba(0,0,0,0.15);\">\n",
    "   <p style=\"color: #555; font-size: 0.9em; margin-top: 8px;\"><em>Neo4j Browser – Connecting to database</em></p>\n",
    " </div>\n",
    "\n",
    "> **Note:** If you'd prefer a local setup (e.g., Docker), that's also possible — but the sandbox is the fastest way to follow along.\n",
    "\n",
    "## 🌟 Key Features of Neo4j\n",
    "\n",
    "-   **Native Graph Storage & Processing** – Optimized for graph workloads, not retrofitted from relational systems.\n",
    "-   **Cypher Query Language** – A declarative and expressive query language tailored for graphs.\n",
    "-   **High Performance at Scale** – Designed to handle large, complex networks of data.\n",
    "-   **Graph Visualization Tools** – Built-in UI for exploring graph structures interactively.— we’ll use them to connect from Python.\n",
    "-   **Flexible Integrations** – Connects easily to Python, Spark, BI tools, and more.\n"
   ]
  },
  {
   "cell_type": "markdown",
   "id": "2c305c72",
   "metadata": {},
   "source": [
    "<div style=\"\n",
    "  background-color: #f0f8ff;\n",
    "  color: #004080;\n",
    "  border-left: 5px solid #3399ff;\n",
    "  padding: 14px 18px;\n",
    "  border-radius: 8px;\n",
    "  font-size: 15px;\n",
    "  width: 85%;\n",
    "  margin-bottom: 20px;\n",
    "  box-shadow: 0 1px 3px rgba(0,0,0,0.1);\n",
    "\">\n",
    "  ℹ️ <strong>Info:</strong> Take a look at the <a href=\"https://neo4j.com/docs/graph-data-science/current/\" target=\"_blank\">Neo4j Graph Data Science Library Docs</a>.\n",
    "</div>\n"
   ]
  },
  {
   "cell_type": "markdown",
   "id": "95115b95",
   "metadata": {},
   "source": [
    "## 📊 Preliminary Data Exploration\n",
    "\n",
    "Let’s first take a quick look at the structure of the graph in our Neo4j instance.\n"
   ]
  },
  {
   "cell_type": "markdown",
   "id": "fe54caa6",
   "metadata": {},
   "source": [
    "<div style=\"\n",
    "  background-color: #f0f8ff;\n",
    "  color: #004080;\n",
    "  border-left: 5px solid #3399ff;\n",
    "  padding: 14px 18px;\n",
    "  border-radius: 8px;\n",
    "  font-size: 15px;\n",
    "  width: 85%;\n",
    "  margin-bottom: 20px;\n",
    "  box-shadow: 0 1px 3px rgba(0,0,0,0.1);\n",
    "\">\n",
    "  ℹ️ <strong>Info:</strong> Use <code>CALL</code> in Cypher to execute built-in or user-defined procedures. \n",
    "  <br><br>\n",
    "  These procedures can help you visualize the schema, get metadata, run graph algorithms, or manage the database.\n",
    "</div>\n"
   ]
  },
  {
   "cell_type": "markdown",
   "id": "09128ccb",
   "metadata": {},
   "source": [
    "### 🧭 Schema and Stats\n",
    "\n",
    "To explore the overall graph schema — including node labels, relationship types, and their properties — run the following Cypher command in the Neo4j Browser:\n"
   ]
  },
  {
   "cell_type": "markdown",
   "id": "06d0ad82",
   "metadata": {},
   "source": [
    "```sql\n",
    "CALL db.schema.visualization();\n",
    "```\n"
   ]
  },
  {
   "cell_type": "markdown",
   "id": "84925a65",
   "metadata": {},
   "source": [
    "This will open an interactive schema graph showing:\n",
    "\n",
    "-   Node labels (e.g., Person, Transaction, Account)\n",
    "-   Relationship types (e.g., SENT_TO, OWNS, INVOLVED_IN)\n",
    "-   Property keys for each entity or edge\n"
   ]
  },
  {
   "cell_type": "markdown",
   "id": "472e57ed",
   "metadata": {},
   "source": [
    "<div style=\"\n",
    "  background-color: #f7f2ff;\n",
    "  color: #4b007d;\n",
    "  border-left: 5px solid #8000ff;\n",
    "  padding: 14px 18px;\n",
    "  border-radius: 8px;\n",
    "  font-size: 15px;\n",
    "  width: 85%;\n",
    "  margin: 16px 0;\n",
    "  box-shadow: 0 1px 3px rgba(0,0,0,0.1);\n",
    "\">\n",
    "  📝 <strong>Quick Questions:</strong>  \n",
    "  <br><br>\n",
    "  <strong>How many node labels do you see?</strong><br>\n",
    "  <strong>How many relationship types are present?</strong>\n",
    "</div>\n"
   ]
  },
  {
   "cell_type": "markdown",
   "id": "32dcb3d7",
   "metadata": {},
   "source": [
    "<div style=\"\n",
    "  border: 1px dashed #8000ff;\n",
    "  background-color: #fdfbff;\n",
    "  padding: 14px 18px;\n",
    "  border-radius: 6px;\n",
    "  font-family: monospace;\n",
    "  width: 85%;\n",
    "  color: #333;\n",
    "\">\n",
    "<strong>Write your answers below:</strong>\n",
    "</div>\n"
   ]
  },
  {
   "cell_type": "markdown",
   "id": "93984783",
   "metadata": {},
   "source": [
    "Node labels: $\\dots$\n",
    "\n",
    "Relationship types: $\\dots$\n"
   ]
  },
  {
   "cell_type": "markdown",
   "id": "7ce02b9a",
   "metadata": {},
   "source": [
    "**Answer:**\n",
    "\n",
    "Node labels: $13$\n",
    "\n",
    "Relationship types: $8$\n"
   ]
  },
  {
   "cell_type": "markdown",
   "id": "bbeafaf0",
   "metadata": {},
   "source": [
    "To get deeper statistics about the graph, we can use the APOC utility procedure:\n"
   ]
  },
  {
   "cell_type": "markdown",
   "id": "3d03438e",
   "metadata": {},
   "source": [
    "```sql\n",
    "CALL apoc.meta.stats();\n",
    "```\n"
   ]
  },
  {
   "cell_type": "markdown",
   "id": "9b3311ba",
   "metadata": {},
   "source": [
    "<div style=\"\n",
    "  background-color: #f7f2ff;\n",
    "  color: #4b007d;\n",
    "  border-left: 5px solid #8000ff;\n",
    "  padding: 14px 18px;\n",
    "  border-radius: 8px;\n",
    "  font-size: 15px;\n",
    "  width: 85%;\n",
    "  margin: 16px 0;\n",
    "  box-shadow: 0 1px 3px rgba(0,0,0,0.1);\n",
    "\">\n",
    "  📝 <strong>Quick Question:</strong>  \n",
    "  <br><br>\n",
    "  <strong>Complete the cell below with key metadata about the graph.</strong>\n",
    "</div>\n"
   ]
  },
  {
   "cell_type": "markdown",
   "id": "6ea1ede3",
   "metadata": {},
   "source": [
    "<div style=\"\n",
    "  border: 1px dashed #8000ff;\n",
    "  background-color: #fdfbff;\n",
    "  padding: 14px 18px;\n",
    "  border-radius: 6px;\n",
    "  font-family: monospace;\n",
    "  width: 85%;\n",
    "  color: #333;\n",
    "\">\n",
    "<strong>Write your answers below:</strong>\n",
    "</div>\n"
   ]
  },
  {
   "cell_type": "markdown",
   "id": "6747d91c",
   "metadata": {},
   "source": [
    "| Metric              |  Value  |\n",
    "| :------------------ | :-----: |\n",
    "| Node Labels         | $\\dots$ |\n",
    "| Relationship Types  | $\\dots$ |\n",
    "| Property Keys       | $\\dots$ |\n",
    "| Total Nodes         | $\\dots$ |\n",
    "| Total Relationships | $\\dots$ |\n"
   ]
  },
  {
   "cell_type": "markdown",
   "id": "ef6d4c93",
   "metadata": {},
   "source": [
    "**Answer:**\n",
    "\n",
    "| Metric              |   Value   |\n",
    "| :------------------ | :-------: |\n",
    "| Node Labels         |   $13$    |\n",
    "| Relationship Types  |    $8$    |\n",
    "| Property Keys       |   $10$    |\n",
    "| Total Nodes         | $332,973$ |\n",
    "| Total Relationships | $980,098$ |\n"
   ]
  },
  {
   "cell_type": "markdown",
   "id": "9cce7641",
   "metadata": {},
   "source": [
    "These stats help us estimate query performance and understand the scale of the graph for downstream tasks like embedding or GNN modeling.\n"
   ]
  },
  {
   "cell_type": "markdown",
   "id": "bab80d5f",
   "metadata": {},
   "source": [
    "### 🔗 Nodes and Relationships\n",
    "\n",
    "Let’s list all the **relationship types** in the graph along with how many times each one appears.\n"
   ]
  },
  {
   "cell_type": "markdown",
   "id": "c9ca64c4",
   "metadata": {},
   "source": [
    "```sql\n",
    "CALL db.relationshipTypes() YIELD relationshipType as type\n",
    "CALL apoc.cypher.run('MATCH ()-[:`'+type+'`]->() RETURN count(*) as count', {})\n",
    "YIELD value\n",
    "RETURN type AS Relationship, value.count AS Count\n",
    "```\n"
   ]
  },
  {
   "cell_type": "markdown",
   "id": "910028ed",
   "metadata": {},
   "source": [
    "<div style=\"\n",
    "  background-color: #f7f2ff;\n",
    "  color: #4b007d;\n",
    "  border-left: 5px solid #8000ff;\n",
    "  padding: 14px 18px;\n",
    "  border-radius: 8px;\n",
    "  font-size: 15px;\n",
    "  width: 85%;\n",
    "  margin: 16px 0;\n",
    "  box-shadow: 0 1px 3px rgba(0,0,0,0.1);\n",
    "\">\n",
    "  📝 <strong>Quick Question:</strong>  \n",
    "  <br><br>\n",
    "  <strong>Try to list all labels and their corresponding counts.</strong><br><br>\n",
    "  💡 <em>Hint:</em> In Cypher, the pattern <code>()-[]-&gt;()</code> means “any node connected to any node via any relationship in the forward direction.”<br>\n",
    "  You can think of it like a generic arrow between two nodes! Therefore, to get information about a node's label, you will need to modify <code>()-[:`'+type+'`]->()</code>.\n",
    "</div>\n"
   ]
  },
  {
   "cell_type": "markdown",
   "id": "3fc2c526",
   "metadata": {},
   "source": [
    "<div style=\"\n",
    "  border: 1px dashed #8000ff;\n",
    "  background-color: #fdfbff;\n",
    "  padding: 14px 18px;\n",
    "  border-radius: 6px;\n",
    "  font-family: monospace;\n",
    "  width: 85%;\n",
    "  color: #333;\n",
    "\">\n",
    "<strong>Write your answer below:</strong>\n",
    "<code></code>\n",
    "</div>\n"
   ]
  },
  {
   "cell_type": "markdown",
   "id": "e337693c",
   "metadata": {},
   "source": [
    "**Answer:**\n",
    "\n",
    "```sql\n",
    "CALL db.labels() YIELD label\n",
    "CALL apoc.cypher.run('MATCH (:`'+label+'`) RETURN count(*) as count', {})\n",
    "YIELD value\n",
    "RETURN label as Label, value.count AS Count\n",
    "```\n"
   ]
  },
  {
   "cell_type": "markdown",
   "id": "da3a58fc",
   "metadata": {},
   "source": [
    "## 🔍 First-Party Fraud Detection\n",
    "\n",
    "In this section, we’ll look for potential **first-party fraud** using **entity link analysis** — connecting people based on shared personal information.\n",
    "\n",
    "This dataset includes three types of **personally identifiable information (PII)**:\n",
    "\n",
    "-   SSN\n",
    "-   Email\n",
    "-   Phone Number\n",
    "\n",
    "### 🧠 Hypothesis\n",
    "\n",
    "If multiple clients **share the same PII**, they might be connected — and that can be a red flag for **synthetic identities** or **fraud rings**.\n",
    "\n",
    "But not all shared identifiers are suspicious (e.g., family members sharing a phone number). So instead of flagging every case, we'll:\n",
    "\n",
    "-   Score clients based on how many PII links they have\n",
    "-   Label the top **X percentile** as potential fraudsters\n",
    "\n",
    "Let’s see how that looks in the graph!\n"
   ]
  },
  {
   "cell_type": "markdown",
   "id": "6e08eae2",
   "metadata": {},
   "source": [
    "### 🔗 Identify Clients Sharing PII\n"
   ]
  },
  {
   "cell_type": "markdown",
   "id": "99527645",
   "metadata": {},
   "source": [
    "This query returns all unique pairs of clients who share one or more pieces of PII, sorted by how many they share:\n"
   ]
  },
  {
   "cell_type": "markdown",
   "id": "298ac527",
   "metadata": {},
   "source": [
    "```sql\n",
    "MATCH (c1:Client)-[:HAS_EMAIL|HAS_PHONE|HAS_SSN]->(n)<-[:HAS_EMAIL|HAS_PHONE|HAS_SSN]-(c2:Client)\n",
    "WHERE elementId(c1) < elementId(c2)\n",
    "RETURN c1.id, c2.id, count(*) AS freq\n",
    "ORDER BY freq DESC;\n",
    "```\n"
   ]
  },
  {
   "cell_type": "markdown",
   "id": "b8062bd0",
   "metadata": {},
   "source": [
    "This query tells us how many unique clients are involved in at least one shared PII connection:\n"
   ]
  },
  {
   "cell_type": "markdown",
   "id": "324e9177",
   "metadata": {},
   "source": [
    "```sql\n",
    "MATCH (c1:Client)-[:HAS_EMAIL|HAS_PHONE|HAS_SSN]->(n)<-[:HAS_EMAIL|HAS_PHONE|HAS_SSN]-(c2:Client)\n",
    "WHERE elementId(c1) <> elementId(c2)\n",
    "RETURN count(DISTINCT c1.id) AS freq;\n",
    "```\n"
   ]
  },
  {
   "cell_type": "markdown",
   "id": "190b4097",
   "metadata": {},
   "source": [
    "<div style=\"\n",
    "  background-color: #f7f2ff;\n",
    "  color: #4b007d;\n",
    "  border-left: 5px solid #8000ff;\n",
    "  padding: 14px 18px;\n",
    "  border-radius: 8px;\n",
    "  font-size: 15px;\n",
    "  width: 85%;\n",
    "  margin: 16px 0;\n",
    "  box-shadow: 0 1px 3px rgba(0,0,0,0.1);\n",
    "\">\n",
    "  📝 <strong>Quick Question:</strong>  \n",
    "  <br><br>\n",
    "  <strong>Why the use of <code><></code> instead of <code><</code> or <code>></code> here?.</strong>\n",
    "</div>\n"
   ]
  },
  {
   "cell_type": "markdown",
   "id": "b5fa4777",
   "metadata": {},
   "source": [
    "<div style=\"\n",
    "  border: 1px dashed #8000ff;\n",
    "  background-color: #fdfbff;\n",
    "  padding: 14px 18px;\n",
    "  border-radius: 6px;\n",
    "  font-family: monospace;\n",
    "  width: 85%;\n",
    "  color: #333;\n",
    "\">\n",
    "<strong>Write your answer below:</strong>\n",
    "<code></code>\n",
    "</div>\n"
   ]
  },
  {
   "cell_type": "markdown",
   "id": "9c4c7fcc",
   "metadata": {},
   "source": [
    "**Answer:**\n",
    "\n",
    "Using `<` or `>` introduces an ordering constraint between the nodes — for example, only matching cases where `A` comes before `B` based on internal IDs. This means that the reverse (`B` matched to `A`) would be excluded.\n",
    "\n",
    "In contrast, `<>` simply checks for inequality, ensuring that the two nodes are not the same, while allowing both directions of the match (e.g., `A–>n<–B` and `B–>n<–A`) to be included.\n"
   ]
  },
  {
   "cell_type": "markdown",
   "id": "06937778",
   "metadata": {},
   "source": [
    "### ➕ Create a New Relationship: `:SHARED_IDENTIFIERS`\n",
    "\n",
    "To make analysis easier, we’ll add a direct relationship between clients who share PII — labeled as `:SHARED_IDENTIFIERS`. This captures the number of shared identifiers as a property on the relationship.\n"
   ]
  },
  {
   "cell_type": "markdown",
   "id": "85549964",
   "metadata": {},
   "source": [
    "```sql\n",
    "MATCH (c1:Client)-[:HAS_EMAIL|HAS_PHONE|HAS_SSN]->(n)<-[:HAS_EMAIL|HAS_PHONE|HAS_SSN]-(c2:Client)\n",
    "WHERE elementId(c1) < elementId(c2)\n",
    "WITH c1, c2, count(*) AS cnt\n",
    "MERGE (c1)-[:SHARED_IDENTIFIERS {count: cnt}]->(c2);\n",
    "```\n"
   ]
  },
  {
   "cell_type": "markdown",
   "id": "a393cf76",
   "metadata": {},
   "source": [
    "<div style=\"\n",
    "  background-color: #f0f8ff;\n",
    "  color: #004080;\n",
    "  border-left: 5px solid #3399ff;\n",
    "  padding: 14px 18px;\n",
    "  border-radius: 8px;\n",
    "  font-size: 15px;\n",
    "  width: 85%;\n",
    "  margin-bottom: 20px;\n",
    "  box-shadow: 0 1px 3px rgba(0,0,0,0.1);\n",
    "\">\n",
    "  ℹ️ <strong>Info:</strong> In case something goes wrong, you can use: <code>MATCH ()-[r:SHARED_IDENTIFIERS]->() DELETE r;</code> to delete <code>:SHARED_IDENTIFIERS</code>.\n",
    "</div>\n"
   ]
  },
  {
   "cell_type": "markdown",
   "id": "d6a4bd3f",
   "metadata": {},
   "source": [
    "This creates a new relationship between each client pair that shares at least one identifier, and stores how many identifiers they share in the count property. Let's visualize a sample:\n"
   ]
  },
  {
   "cell_type": "markdown",
   "id": "efad8b12",
   "metadata": {},
   "source": [
    "```sql\n",
    "MATCH p = (:Client)-[s:SHARED_IDENTIFIERS]->(:Client)\n",
    "WHERE s.count >= 2\n",
    "RETURN p\n",
    "LIMIT 25;\n",
    "```\n"
   ]
  },
  {
   "cell_type": "markdown",
   "id": "12ac6d6a",
   "metadata": {},
   "source": [
    "<div style=\"\n",
    "  background-color: #f7f2ff;\n",
    "  color: #4b007d;\n",
    "  border-left: 5px solid #8000ff;\n",
    "  padding: 14px 18px;\n",
    "  border-radius: 8px;\n",
    "  font-size: 15px;\n",
    "  width: 85%;\n",
    "  margin: 16px 0;\n",
    "  box-shadow: 0 1px 3px rgba(0,0,0,0.1);\n",
    "\">\n",
    "  📝 <strong>(Trick) Quick Question:</strong>  \n",
    "  <br><br>\n",
    "  <strong>Notice something <em>weird</em>?</strong><br><br>\n",
    "    💡 <em>Hint:</em> Try to explain to a friend the meaning of the directed relation <code>:SHARED_IDENTIFIERS</code>.\n",
    "</div>\n"
   ]
  },
  {
   "cell_type": "markdown",
   "id": "28b7db79",
   "metadata": {},
   "source": [
    "<div style=\"\n",
    "  border: 1px dashed #8000ff;\n",
    "  background-color: #fdfbff;\n",
    "  padding: 14px 18px;\n",
    "  border-radius: 6px;\n",
    "  font-family: monospace;\n",
    "  width: 85%;\n",
    "  color: #333;\n",
    "\">\n",
    "<strong>Write your answer below:</strong>\n",
    "<code></code>\n",
    "</div>\n"
   ]
  },
  {
   "cell_type": "markdown",
   "id": "d047671b",
   "metadata": {},
   "source": [
    "**Answer:**\n",
    "\n",
    "Relationships in Neo4j are _always directed_, so even a conceptually symmetric relation like `:SHARED_IDENTIFIERS` must have a direction — which could introduce redundancy if we didn't constraint the ordering with `elementId(c1) < elementId(c2)`. In embedding models like TransE, symmetric relations are modeled with relation vectors close to zero (i.e., $\\vec{r} \\approx 0$) to satisfy $\\vec{h} + \\vec{r} \\approx \\vec{t}$ and $\\vec{t} + \\vec{r} \\approx \\vec{h}$, which could pose some issues.\n"
   ]
  },
  {
   "cell_type": "markdown",
   "id": "725d809d",
   "metadata": {},
   "source": [
    "### 👾 Graph Algorithms for Fraud Detection\n",
    "\n",
    "To uncover suspicious client behavior and detect potential fraud rings, we’ll build a workflow using a series of **graph algorithms** from Neo4j’s Graph Data Science (GDS) library.\n"
   ]
  },
  {
   "cell_type": "markdown",
   "id": "89ea1022",
   "metadata": {},
   "source": [
    "#### 1. Identify Fraud Rings with WCC\n",
    "\n",
    "Before we can run algorithms, we need to **project the relevant subgraph into memory**. This step defines what part of the property graph should be included and how it should be represented in the algorithm runtime.\n",
    "\n",
    "<div style=\"\n",
    "  background-color: #f0f8ff;\n",
    "  color: #004080;\n",
    "  border-left: 5px solid #3399ff;\n",
    "  padding: 14px 18px;\n",
    "  border-radius: 8px;\n",
    "  font-size: 15px;\n",
    "  width: 85%;\n",
    "  margin-bottom: 20px;\n",
    "  box-shadow: 0 1px 3px rgba(0,0,0,0.1);\n",
    "\">\n",
    "  ℹ️ <strong>Info:</strong> In Neo4j GDS, an <strong>in-memory graph</strong> is used for fast computation. It is separate from the persistent database and must be explicitly created (projected) before running algorithms.\n",
    "</div>\n"
   ]
  },
  {
   "cell_type": "markdown",
   "id": "c3a56256",
   "metadata": {},
   "source": [
    "```sql\n",
    "CALL gds.graph.project(\n",
    "  'wcc',\n",
    "  {\n",
    "    Client: {\n",
    "      label: 'Client'\n",
    "    }\n",
    "  },\n",
    "  {\n",
    "    SHARED_IDENTIFIERS: {\n",
    "      type: 'SHARED_IDENTIFIERS',\n",
    "      orientation: 'UNDIRECTED',\n",
    "      properties: {\n",
    "        count: {\n",
    "          property: 'count'\n",
    "        }\n",
    "      }\n",
    "    }\n",
    "  }\n",
    ")\n",
    "YIELD graphName, nodeCount, relationshipCount, projectMillis;\n",
    "```\n"
   ]
  },
  {
   "cell_type": "markdown",
   "id": "ed0d424f",
   "metadata": {},
   "source": [
    "<div style=\"\n",
    "  background-color: #f0f8ff;\n",
    "  color: #004080;\n",
    "  border-left: 5px solid #3399ff;\n",
    "  padding: 14px 18px;\n",
    "  border-radius: 8px;\n",
    "  font-size: 15px;\n",
    "  width: 85%;\n",
    "  margin-bottom: 20px;\n",
    "  box-shadow: 0 1px 3px rgba(0,0,0,0.1);\n",
    "\">\n",
    "  ℹ️ <strong>Info:</strong> In case something goes wrong, you can use <code>CALL gds.graph.drop('wcc') YIELD graphName;</code> to release <code>wcc</code> from memory.\n",
    "</div>\n"
   ]
  },
  {
   "cell_type": "markdown",
   "id": "9240616b",
   "metadata": {},
   "source": [
    "This projects a graph named `wcc` containing Client nodes and `:SHARED_IDENTIFIERS` relationships, preserving the count property and **treating edges as undirected** (which **does not mean the edges are** undirected).\n",
    "\n",
    "<div style=\"\n",
    "  background-color: #f0f8ff;\n",
    "  color: #004080;\n",
    "  border-left: 5px solid #3399ff;\n",
    "  padding: 14px 18px;\n",
    "  border-radius: 8px;\n",
    "  font-size: 15px;\n",
    "  width: 85%;\n",
    "  margin-bottom: 20px;\n",
    "  box-shadow: 0 1px 3px rgba(0,0,0,0.1);\n",
    "\">\n",
    "  ℹ️ <strong>Info:</strong> GDS algorithms support four common execution modes: stream, mutate, write and stats.<br><br>\n",
    "  📘 Read more: <a href=\"https://neo4j.com/docs/graph-data-science/2.0-preview/common-usage/running-algos/\" target=\"_blank\">Execution modes</a> More informaton here: .\n",
    "</div>\n",
    "\n",
    "<div style=\"\n",
    "  background-color: #fffbe6;\n",
    "  color: #8a6d3b;\n",
    "  border-left: 5px solid #ffcc00;\n",
    "  padding: 14px 18px;\n",
    "  border-radius: 8px;\n",
    "  font-size: 15px;\n",
    "  width: 85%;\n",
    "  margin: 16px 0;\n",
    "  box-shadow: 0 1px 3px rgba(0,0,0,0.1);\n",
    "\">\n",
    "  ⚠️ <strong>Tip: Run a Memory Estimate First</strong><br><br>\n",
    "  It's a good practice to run a memory estimate before projecting a graph, especially with large datasets. This helps prevent memory-related errors during processing.<br><br>\n",
    "  📘 Read more: <a href=\"https://neo4j.com/docs/graph-data-science/current/common-usage/memory-estimation/\" target=\"_blank\">Memory Estimation Guide</a>; <a href=\"https://neo4j.com/docs/graph-data-science/current/algorithms/wcc/\" target=\"_blank\">Weakly Connected Components</a>.\n",
    "</div>\n"
   ]
  },
  {
   "cell_type": "markdown",
   "id": "f620d9a0",
   "metadata": {},
   "source": [
    "To write results to the database, execute:\n"
   ]
  },
  {
   "cell_type": "markdown",
   "id": "5d516844",
   "metadata": {},
   "source": [
    "```sql\n",
    "CALL gds.wcc.stream('wcc',\n",
    "    {\n",
    "        nodeLabels: ['Client'],\n",
    "        relationshipTypes: ['SHARED_IDENTIFIERS'],\n",
    "        consecutiveIds: true\n",
    "    }\n",
    ")\n",
    "YIELD componentId, nodeId\n",
    "WITH componentId AS cluster, gds.util.asNode(nodeId) AS client\n",
    "WITH cluster, collect(client.id) AS clients\n",
    "WITH cluster, clients, size(clients) AS clusterSize WHERE clusterSize > 1\n",
    "UNWIND clients AS client\n",
    "MATCH (c:Client) WHERE c.id = client\n",
    "SET c.firstPartyFraudGroup=cluster;\n",
    "```\n"
   ]
  },
  {
   "cell_type": "markdown",
   "id": "ef7a3031",
   "metadata": {},
   "source": [
    "We can then browse and visualize clusters with greater than 9 nodes:\n",
    "\n",
    "```sql\n",
    "MATCH (c:Client)\n",
    "WITH c.firstPartyFraudGroup AS fpGroupID, collect(c.id) AS fGroup\n",
    "WITH *, size(fGroup) AS groupSize WHERE groupSize >= 9\n",
    "WITH collect(fpGroupID) AS fraudRings\n",
    "MATCH p=(c:Client)-[:HAS_SSN|HAS_EMAIL|HAS_PHONE]->()\n",
    "WHERE c.firstPartyFraudGroup IN fraudRings\n",
    "RETURN p\n",
    "```\n"
   ]
  },
  {
   "cell_type": "markdown",
   "id": "afb5dae9",
   "metadata": {},
   "source": [
    "#### 2. Compute Similarity Scores\n",
    "\n",
    "We use node similarity algorithm to find similar nodes based on the relationships to other nodes. Two nodes are considered similar if they share _many of the same neighbors_. Node similarity uses Jaccard metric ([Node Similarity](https://neo4j.com/docs/graph-data-science/current/algorithms/node-similarity/#algorithms-node-similarity)).\n",
    "\n",
    "$$\n",
    "J(A, B) = \\frac{|A \\cap B|}{|A \\cup B|} = \\frac{|A \\cap B|}{|A| + |B| - |A \\cap B|}\n",
    "$$\n",
    "\n",
    "Node similarity algorithms work on bipartite graphs (two types of nodes and relationships between them). Here we project client nodes (one type) and three identifiers nodes (that are considered as second type) into memory.\n"
   ]
  },
  {
   "cell_type": "markdown",
   "id": "0f71909a",
   "metadata": {},
   "source": [
    "```sql\n",
    "MATCH (c:Client)-[:HAS_SSN|HAS_EMAIL|HAS_PHONE]->(id:Email|Phone|SSN)\n",
    "WHERE c.firstPartyFraudGroup IS NOT NULL\n",
    "WITH gds.graph.project('similarity', c, id) AS g\n",
    "RETURN g.graphName, g.nodeCount, g.relationshipCount, g.projectMillis;\n",
    "```\n"
   ]
  },
  {
   "cell_type": "markdown",
   "id": "75a7ecc2",
   "metadata": {},
   "source": [
    "To write to the in-memory graph, execute:\n"
   ]
  },
  {
   "cell_type": "markdown",
   "id": "09d2cfa8",
   "metadata": {},
   "source": [
    "```sql\n",
    "CALL gds.nodeSimilarity.mutate('similarity',\n",
    "    {\n",
    "        topK:15,\n",
    "        mutateProperty: 'jaccardScore',\n",
    "        mutateRelationshipType:'SIMILAR_TO'\n",
    "    }\n",
    ");\n",
    "```\n"
   ]
  },
  {
   "cell_type": "markdown",
   "id": "d2e6eb09",
   "metadata": {},
   "source": [
    "<div style=\"\n",
    "  background-color: #f0f8ff;\n",
    "  color: #004080;\n",
    "  border-left: 5px solid #3399ff;\n",
    "  padding: 14px 18px;\n",
    "  border-radius: 8px;\n",
    "  font-size: 15px;\n",
    "  width: 85%;\n",
    "  margin-bottom: 20px;\n",
    "  box-shadow: 0 1px 3px rgba(0,0,0,0.1);\n",
    "\">\n",
    "  ℹ️ <strong>Info:</strong> <code>topK</code> limits on the number of scores per node. The K largest results are returned.\n",
    "</div>\n"
   ]
  },
  {
   "cell_type": "markdown",
   "id": "b01e742f",
   "metadata": {},
   "source": [
    "To write from in-memory graph to the Database, execute:\n"
   ]
  },
  {
   "cell_type": "markdown",
   "id": "3a85c239",
   "metadata": {},
   "source": [
    "```sql\n",
    "CALL gds.graph.relationship.write('similarity', 'SIMILAR_TO', 'jaccardScore')\n",
    "```\n"
   ]
  },
  {
   "cell_type": "markdown",
   "id": "be1cebf2",
   "metadata": {},
   "source": [
    "<div style=\"\n",
    "  background-color: #f7f2ff;\n",
    "  color: #4b007d;\n",
    "  border-left: 5px solid #8000ff;\n",
    "  padding: 14px 18px;\n",
    "  border-radius: 8px;\n",
    "  font-size: 15px;\n",
    "  width: 85%;\n",
    "  margin: 16px 0;\n",
    "  box-shadow: 0 1px 3px rgba(0,0,0,0.1);\n",
    "\">\n",
    "  📝 <strong>Quick Question:</strong>  \n",
    "  <br><br>\n",
    "  <strong>How can we visualize a sample of the nodes with the newly added relationship <code>:SIMILAR_TO</code>?</strong>\n",
    "</div>\n"
   ]
  },
  {
   "cell_type": "markdown",
   "id": "9da6ecdf",
   "metadata": {},
   "source": [
    "<div style=\"\n",
    "  border: 1px dashed #8000ff;\n",
    "  background-color: #fdfbff;\n",
    "  padding: 14px 18px;\n",
    "  border-radius: 6px;\n",
    "  font-family: monospace;\n",
    "  width: 85%;\n",
    "  color: #333;\n",
    "\">\n",
    "<strong>Write your answer below:</strong>\n",
    "<code></code>\n",
    "</div>\n"
   ]
  },
  {
   "cell_type": "markdown",
   "id": "63c4612c",
   "metadata": {},
   "source": [
    "**Answer:**\n",
    "\n",
    "```sql\n",
    "MATCH p = (:Client)-[s:SIMILAR_TO]->(:Client)\n",
    "RETURN p\n",
    "LIMIT 25;\n",
    "```\n"
   ]
  },
  {
   "cell_type": "markdown",
   "id": "a6273581",
   "metadata": {},
   "source": [
    "#### 3. Calculate First-party Fraud Score\n",
    "\n",
    "We now compute a **first-party fraud score** for each client using the **Weighted Degree Centrality** algorithm.\n",
    "\n",
    "This score is based on the number and strength of a client’s `SIMILAR_TO` relationships — created earlier using Node Similarity with Jaccard scores.\n",
    "\n",
    "**How it works:**\n",
    "\n",
    "-   For each client node, we sum the `jaccardScore` values from all incoming `SIMILAR_TO` relationships.\n",
    "-   This total is assigned as the `firstPartyFraudScore`.\n",
    "-   A higher score means the client shares identifiers with many others in the cluster, or with high similarity — both of which can indicate suspicious behavior.\n",
    "\n",
    "> In short: **The more similar a client is to others (based on shared PII), the more suspicious they may be.**\n"
   ]
  },
  {
   "cell_type": "markdown",
   "id": "3448599a",
   "metadata": {},
   "source": [
    "To write the centrality scores as `firstPartyFraudScore`, execute:\n"
   ]
  },
  {
   "cell_type": "markdown",
   "id": "291331b6",
   "metadata": {},
   "source": [
    "```sql\n",
    "CALL gds.degree.write('similarity',\n",
    "    {\n",
    "        nodeLabels: ['*'],\n",
    "        relationshipTypes: ['SIMILAR_TO'],\n",
    "        relationshipWeightProperty: 'jaccardScore',\n",
    "        writeProperty: 'firstPartyFraudScore'\n",
    "    }\n",
    ");\n",
    "```\n"
   ]
  },
  {
   "cell_type": "markdown",
   "id": "3742cc2f",
   "metadata": {},
   "source": [
    "<div style=\"\n",
    "  background-color: #f0f8ff;\n",
    "  color: #004080;\n",
    "  border-left: 5px solid #3399ff;\n",
    "  padding: 14px 18px;\n",
    "  border-radius: 8px;\n",
    "  font-size: 15px;\n",
    "  width: 85%;\n",
    "  margin-bottom: 20px;\n",
    "  box-shadow: 0 1px 3px rgba(0,0,0,0.1);\n",
    "\">\n",
    "  ℹ️ <strong>Info:</strong> In case something goes wrong, you can use: <code>MATCH (n) REMOVE n.firstPartyFraudScore;</code> to delete the property <code>firstPartyFraudScore</code>.\n",
    "</div>\n"
   ]
  },
  {
   "cell_type": "markdown",
   "id": "fb83bd47",
   "metadata": {},
   "source": [
    "#### 4. Label High-Risk Clients as First-Party Fraudsters\n",
    "\n",
    "Now that we’ve computed a `firstPartyFraudScore` for each client, we’ll label the **most suspicious clients** as potential fraudsters.\n",
    "\n",
    "We do this by:\n",
    "\n",
    "-   Calculating a threshold based on the **95th percentile** of all fraud scores.\n",
    "-   Tagging clients whose score exceeds this threshold with a new label: `:FirstPartyFraudster`.\n",
    "\n",
    "This helps isolate the top X% of clients most likely to be involved in **first-party fraud**.\n"
   ]
  },
  {
   "cell_type": "markdown",
   "id": "bbfecea4",
   "metadata": {},
   "source": [
    "```sql\n",
    "MATCH (c:Client)\n",
    "WHERE c.firstPartyFraudScore IS NOT NULL\n",
    "WITH percentileCont(c.firstPartyFraudScore, 0.5) AS firstPartyFraudThreshold\n",
    "\n",
    "MATCH (c:Client)\n",
    "WHERE c.firstPartyFraudScore > firstPartyFraudThreshold\n",
    "SET c:FirstPartyFraudster;\n",
    "```\n"
   ]
  },
  {
   "cell_type": "markdown",
   "id": "a5690989",
   "metadata": {},
   "source": [
    "> 🎯 You can adjust the percentile (e.g., 90, 99) based on how aggressive or conservative your fraud detection strategy should be.\n"
   ]
  },
  {
   "cell_type": "markdown",
   "id": "b4b87e92",
   "metadata": {},
   "source": [
    "<div style=\"\n",
    "  background-color: #f7f2ff;\n",
    "  color: #4b007d;\n",
    "  border-left: 5px solid #8000ff;\n",
    "  padding: 14px 18px;\n",
    "  border-radius: 8px;\n",
    "  font-size: 15px;\n",
    "  width: 85%;\n",
    "  margin: 16px 0;\n",
    "  box-shadow: 0 1px 3px rgba(0,0,0,0.1);\n",
    "\">\n",
    "  📝 <strong>Quick Question:</strong>  \n",
    "  <br><br>\n",
    "  <strong>How can we visualize a sample of your nodes with the newly added relationship <code>:FirstPartyFraudster</code>?</strong>\n",
    "</div>\n"
   ]
  },
  {
   "cell_type": "markdown",
   "id": "e4e1f348",
   "metadata": {},
   "source": [
    "<div style=\"\n",
    "  border: 1px dashed #8000ff;\n",
    "  background-color: #fdfbff;\n",
    "  padding: 14px 18px;\n",
    "  border-radius: 6px;\n",
    "  font-family: monospace;\n",
    "  width: 85%;\n",
    "  color: #333;\n",
    "\">\n",
    "<strong>Write your answer below:</strong>\n",
    "<code></code>\n",
    "</div>\n"
   ]
  },
  {
   "cell_type": "markdown",
   "id": "bfbddf24",
   "metadata": {},
   "source": [
    "**Answer:**\n",
    "\n",
    "```sql\n",
    "MATCH p = (:Client)-[s:FirstPartyFraudster]->(:Client)\n",
    "RETURN p\n",
    "LIMIT 25;\n",
    "```\n"
   ]
  },
  {
   "cell_type": "markdown",
   "id": "9d8f46f7",
   "metadata": {},
   "source": [
    "<div style=\"\n",
    "  background-color: #f0f8ff;\n",
    "  color: #004080;\n",
    "  border-left: 5px solid #3399ff;\n",
    "  padding: 14px 18px;\n",
    "  border-radius: 8px;\n",
    "  font-size: 15px;\n",
    "  width: 85%;\n",
    "  margin-bottom: 20px;\n",
    "  box-shadow: 0 1px 3px rgba(0,0,0,0.1);\n",
    "\">\n",
    "  ℹ️ <strong>Info:</strong> In case something goes wrong, you can use: <code>MATCH (n:FirstPartyFraudster) REMOVE n:FirstPartyFraudster</code> to delete the property <code>firstPartyFraudScore</code>.\n",
    "</div>\n"
   ]
  },
  {
   "cell_type": "markdown",
   "id": "7ac06a84",
   "metadata": {},
   "source": [
    "## 🫏 Money Mules: Second-Party Fraud Detection\n",
    "\n",
    "**Module 2: Detecting Clients Who Support First-Party Fraudsters**\n",
    "\n",
    "According to the FBI, criminals often recruit **money mules** to help launder funds from scams or fraud. These individuals add layers of distance between the fraudster and the stolen funds, making it harder to trace the money trail.\n",
    "\n",
    "In this module, we'll identify potential **second-party fraud suspects** — clients who transact with known first-party fraudsters — using graph patterns and algorithms.\n"
   ]
  },
  {
   "cell_type": "markdown",
   "id": "b4653bbb",
   "metadata": {},
   "source": [
    "### 🔍 Hypothesis\n",
    "\n",
    "Clients who **send or receive money from first-party fraudsters** may be helping to move fraudulent funds and should be considered **second-party fraud suspects**.\n"
   ]
  },
  {
   "cell_type": "markdown",
   "id": "ca87a13b",
   "metadata": {},
   "source": [
    "### 🔗 Find all transactions involving first-party fraudsters and other clients\n",
    "\n",
    "<div style=\"\n",
    "  background-color: #f7f2ff;\n",
    "  color: #4b007d;\n",
    "  border-left: 5px solid #8000ff;\n",
    "  padding: 14px 18px;\n",
    "  border-radius: 8px;\n",
    "  font-size: 15px;\n",
    "  width: 85%;\n",
    "  margin: 16px 0;\n",
    "  box-shadow: 0 1px 3px rgba(0,0,0,0.1);\n",
    "\">\n",
    "  📝 <strong>Quick Questions:</strong>  \n",
    "  <br><br>\n",
    "  <strong>Find out clients who weren’t identified as first party fraudsters but they transact with first party fraudsters.</strong><br>\n",
    "  <strong>Find out what types of transactions do these Clients perform with first party fraudsters.</strong>\n",
    "</div>\n"
   ]
  },
  {
   "cell_type": "markdown",
   "id": "e6cccea4",
   "metadata": {},
   "source": [
    "<div style=\"\n",
    "  border: 1px dashed #8000ff;\n",
    "  background-color: #fdfbff;\n",
    "  padding: 14px 18px;\n",
    "  border-radius: 6px;\n",
    "  font-family: monospace;\n",
    "  width: 85%;\n",
    "  color: #333;\n",
    "\">\n",
    "<strong>Write your answers below:</strong>\n",
    "<code></code>\n",
    "</div>\n"
   ]
  },
  {
   "cell_type": "markdown",
   "id": "66878645",
   "metadata": {},
   "source": [
    "**Answer:**\n",
    "\n",
    "```sql\n",
    "MATCH p = (:Client:FirstPartyFraudster)-[]-(:Transaction)-[]-(c:Client)\n",
    "WHERE NOT c:FirstPartyFraudster\n",
    "RETURN p;\n",
    "```\n"
   ]
  },
  {
   "cell_type": "markdown",
   "id": "75cc5ea3",
   "metadata": {},
   "source": [
    "**Answer:**\n",
    "\n",
    "```sql\n",
    "MATCH (:Client:FirstPartyFraudster)-[]-(txn:Transaction)-[]-(c:Client)\n",
    "WHERE NOT c:FirstPartyFraudster\n",
    "UNWIND labels(txn) AS transactionType\n",
    "RETURN transactionType, count(*) AS freq;\n",
    "```\n"
   ]
  },
  {
   "cell_type": "markdown",
   "id": "691fa2be",
   "metadata": {},
   "source": [
    "### ➕ Create a New Relationship: `:TRANSFER_TO`\n",
    "\n",
    "We’ll create new `:TRANSFER_TO` relationships based on transaction direction and volume, and label the involved clients as SecondPartyFraudSuspect.\n",
    "\n",
    "➡️ From Fraudster to Client\n"
   ]
  },
  {
   "cell_type": "markdown",
   "id": "f20936e0",
   "metadata": {},
   "source": [
    "```sql\n",
    "MATCH (c1:FirstPartyFraudster)-[]->(t:Transaction)-[]->(c2:Client)\n",
    "WHERE NOT c2:FirstPartyFraudster\n",
    "WITH c1, c2, sum(t.amount) AS totalAmount\n",
    "SET c2:SecondPartyFraudSuspect\n",
    "CREATE (c1)-[:TRANSFER_TO {amount: totalAmount}]->(c2);\n",
    "```\n"
   ]
  },
  {
   "cell_type": "markdown",
   "id": "01e5b12d",
   "metadata": {},
   "source": [
    "⬅️ From Client to Fraudster\n"
   ]
  },
  {
   "cell_type": "markdown",
   "id": "a4cf2f8e",
   "metadata": {},
   "source": [
    "```sql\n",
    "MATCH (c1:FirstPartyFraudster)<-[]-(t:Transaction)<-[]-(c2:Client)\n",
    "WHERE NOT c2:FirstPartyFraudster\n",
    "WITH c1, c2, sum(t.amount) AS totalAmount\n",
    "SET c2:SecondPartyFraudSuspect\n",
    "CREATE (c1)<-[:TRANSFER_TO {amount: totalAmount}]-(c2);\n",
    "```\n"
   ]
  },
  {
   "cell_type": "markdown",
   "id": "367e322e",
   "metadata": {},
   "source": [
    "<div style=\"\n",
    "  background-color: #f7f2ff;\n",
    "  color: #4b007d;\n",
    "  border-left: 5px solid #8000ff;\n",
    "  padding: 14px 18px;\n",
    "  border-radius: 8px;\n",
    "  font-size: 15px;\n",
    "  width: 85%;\n",
    "  margin: 16px 0;\n",
    "  box-shadow: 0 1px 3px rgba(0,0,0,0.1);\n",
    "\">\n",
    "  📝 <strong>Quick Question:</strong>  \n",
    "  <br><br>\n",
    "  <strong>How can we visualize transfers to/from first-party fraudsters?</strong>\n",
    "  <br><br>\n",
    "  💡 <em>Hint:</em> In Cypher, we can use <code>()-[r]-()</code> to match both senses of a given relationship.\n",
    "</div>\n"
   ]
  },
  {
   "cell_type": "markdown",
   "id": "575626a3",
   "metadata": {},
   "source": [
    "<div style=\"\n",
    "  border: 1px dashed #8000ff;\n",
    "  background-color: #fdfbff;\n",
    "  padding: 14px 18px;\n",
    "  border-radius: 6px;\n",
    "  font-family: monospace;\n",
    "  width: 85%;\n",
    "  color: #333;\n",
    "\">\n",
    "<strong>Write your answer below:</strong>\n",
    "<code></code>\n",
    "</div>\n"
   ]
  },
  {
   "cell_type": "markdown",
   "id": "5811ad0d",
   "metadata": {},
   "source": [
    "**Answer:**\n",
    "\n",
    "```sql\n",
    "MATCH p = (:Client:FirstPartyFraudster)-[:TRANSFER_TO]-(c:Client)\n",
    "WHERE NOT c:FirstPartyFraudster\n",
    "RETURN p;\n",
    "```\n"
   ]
  },
  {
   "cell_type": "markdown",
   "id": "0916e4ef",
   "metadata": {},
   "source": [
    "### 🔎 Second-Party Fraud Detection Workflow\n",
    "\n",
    "Our goal is to identify clients who may be supporting fraud without directly committing it.\n"
   ]
  },
  {
   "cell_type": "markdown",
   "id": "cd0e29bc",
   "metadata": {},
   "source": [
    "#### 1. Project a Graph for Analysis\n",
    "\n",
    "We’ll project a subgraph using Client nodes and TRANSFER_TO relationships (with amount as weight).\n"
   ]
  },
  {
   "cell_type": "markdown",
   "id": "c607ceff",
   "metadata": {},
   "source": [
    "```sql\n",
    "CALL gds.graph.project(\n",
    "  'SecondPartyFraudNetwork',\n",
    "  'Client',\n",
    "  'TRANSFER_TO',\n",
    "  {relationshipProperties: 'amount'}\n",
    ");\n",
    "```\n"
   ]
  },
  {
   "cell_type": "markdown",
   "id": "35be59cd",
   "metadata": {},
   "source": [
    "#### 2. Detect Fraud Clusters with WCC\n",
    "\n",
    "Use Weakly Connected Components to find clusters of connected clients.\n"
   ]
  },
  {
   "cell_type": "markdown",
   "id": "01c6265d",
   "metadata": {},
   "source": [
    "```sql\n",
    "CALL gds.wcc.stream('SecondPartyFraudNetwork')\n",
    "YIELD nodeId, componentId\n",
    "WITH gds.util.asNode(nodeId) AS client, componentId AS clusterId\n",
    "WITH clusterId, collect(client.id) AS cluster\n",
    "WITH clusterId, size(cluster) AS clusterSize, cluster\n",
    "WHERE clusterSize > 1\n",
    "UNWIND cluster AS client\n",
    "MATCH (c:Client {id: client})\n",
    "SET c.secondPartyFraudGroup = clusterId;\n",
    "```\n"
   ]
  },
  {
   "cell_type": "markdown",
   "id": "23db03e3",
   "metadata": {},
   "source": [
    "This helps identify groups of clients linked together by transactions, which may represent coordinated money movement networks.\n"
   ]
  },
  {
   "cell_type": "markdown",
   "id": "7c36820f",
   "metadata": {},
   "source": [
    "#### 3. Compute PageRank for Fraud Influence Score\n",
    "\n",
    "Run PageRank on the graph to rank clients based on the volume of money flowing to/from fraudsters.\n"
   ]
  },
  {
   "cell_type": "markdown",
   "id": "4d4f9a44",
   "metadata": {},
   "source": [
    "```sql\n",
    "CALL gds.pageRank.stream('SecondPartyFraudNetwork', {relationshipWeightProperty: 'amount'})\n",
    "YIELD nodeId, score\n",
    "WITH gds.util.asNode(nodeId) AS client, score AS pageRankScore\n",
    "WHERE client.secondPartyFraudGroup IS NOT NULL\n",
    "  AND pageRankScore > 0\n",
    "  AND NOT client:FirstPartyFraudster\n",
    "MATCH (c:Client {id: client.id})\n",
    "SET c.secondPartyFraudScore = pageRankScore;\n",
    "```\n"
   ]
  },
  {
   "cell_type": "markdown",
   "id": "3e9d21ad",
   "metadata": {},
   "source": [
    "<div style=\"\n",
    "  background-color: #f7f2ff;\n",
    "  color: #4b007d;\n",
    "  border-left: 5px solid #8000ff;\n",
    "  padding: 14px 18px;\n",
    "  border-radius: 8px;\n",
    "  font-size: 15px;\n",
    "  width: 85%;\n",
    "  margin: 16px 0;\n",
    "  box-shadow: 0 1px 3px rgba(0,0,0,0.1);\n",
    "\">\n",
    "  📝 <strong>Quick Question:</strong>  \n",
    "  <br><br>\n",
    "  <strong>How can we visualize second-party fraud network?</strong>\n",
    "</div>\n"
   ]
  },
  {
   "cell_type": "markdown",
   "id": "553f1c80",
   "metadata": {},
   "source": [
    "<div style=\"\n",
    "  border: 1px dashed #8000ff;\n",
    "  background-color: #fdfbff;\n",
    "  padding: 14px 18px;\n",
    "  border-radius: 6px;\n",
    "  font-family: monospace;\n",
    "  width: 85%;\n",
    "  color: #333;\n",
    "\">\n",
    "<strong>Write your answer below:</strong>\n",
    "<code></code>\n",
    "</div>\n"
   ]
  },
  {
   "cell_type": "markdown",
   "id": "cc8cb64c",
   "metadata": {},
   "source": [
    "**Answer:**\n",
    "\n",
    "```sql\n",
    "MATCH p = (:Client:FirstPartyFraudster)-[:TRANSFER_TO]-(c:Client)\n",
    "WHERE NOT c:FirstPartyFraudster\n",
    "RETURN p;\n",
    "```\n"
   ]
  },
  {
   "cell_type": "markdown",
   "id": "95044531",
   "metadata": {},
   "source": [
    "## 🧹 Clean Up In-Memory Graphs\n",
    "\n",
    "Always clean up projected graphs once you’re done to free memory:\n"
   ]
  },
  {
   "cell_type": "markdown",
   "id": "964d59e3",
   "metadata": {},
   "source": [
    "```sql\n",
    "CALL gds.graph.list()\n",
    "YIELD graphName AS namedGraph\n",
    "WITH namedGraph\n",
    "CALL gds.graph.drop(namedGraph)\n",
    "YIELD graphName\n",
    "RETURN graphName;\n",
    "```\n"
   ]
  },
  {
   "cell_type": "markdown",
   "id": "0db242ba",
   "metadata": {},
   "source": [
    "# 2. Knowledge Graph Embedding-Based Methods\n",
    "\n",
    "This section of the notebook demonstrates how to perform knowledge graph completion, focusing on multi-class link prediction. Unlike standard link prediction, which predicts the existence of a link, multi-class link prediction also classifies the type of relationship between entities.\n",
    "\n",
    "To apply this method, the knowledge graph must contain multiple relationship types. If the graph has only one type of relationship, standard [link prediction techniques](https://towardsdatascience.com/a-deep-dive-into-neo4j-link-prediction-pipeline-and-fastrp-embedding-algorithm-bf244aeed50d) or alternative approaches that do not require relationship classification may be more suitable.\n",
    "\n",
    "For multi-class link prediction, we employ knowledge graph embedding models rather than traditional node embedding models. The key distinction lies in their scope:\n",
    "\n",
    "-   Node embedding models generate embeddings solely for nodes.\n",
    "-   Knowledge graph embedding models create embeddings for both nodes and relationships.\n",
    "\n",
    "In knowledge graph embedding, the conventional notation is:\n",
    "\n",
    "-   $h$ – head (starting node)\n",
    "-   $r$ – relationship (edge)\n",
    "-   $t$ – tail (target node)\n",
    "\n",
    "The core idea is that if a relationship exists between nodes, the embedding of the head node ($h$) plus the embedding of the relationship ($r$) should approximate the embedding of the tail node ($t$): $h + r \\approx t$\n",
    "\n",
    "Prediction follows intuitively from this principle. To infer new relationships for a node, sum the node's embedding with the embedding of a candidate relationship, then evaluate which nodes are closest to the result in the embedding space.\n",
    "\n",
    "[PyKEEN](https://pykeen.readthedocs.io/en/stable/index.html) (Python Knowledge Embedding Engine) is an open-source Python library for training and evaluating knowledge graph embedding (KGE) models. It simplifies the application of machine learning to knowledge graphs by providing pre-implemented models, training pipelines, and evaluation tools.\n"
   ]
  },
  {
   "cell_type": "markdown",
   "id": "e8d1318f",
   "metadata": {},
   "source": [
    "<div style=\"\n",
    "  background-color: #f0f8ff;\n",
    "  color: #004080;\n",
    "  border-left: 5px solid #3399ff;\n",
    "  padding: 14px 18px;\n",
    "  border-radius: 8px;\n",
    "  font-size: 15px;\n",
    "  width: 85%;\n",
    "  margin-bottom: 20px;\n",
    "  box-shadow: 0 1px 3px rgba(0,0,0,0.1);\n",
    "\">\n",
    "  ℹ️ <strong>Info:</strong> Take a look at the <a href=\"https://neo4j.com/docs/python-manual/current/\" target=\"_blank\">Neo4j Python Driver Docs</a>.\n",
    "</div>\n"
   ]
  },
  {
   "cell_type": "markdown",
   "id": "a276429b",
   "metadata": {},
   "source": [
    "### Imports\n"
   ]
  },
  {
   "cell_type": "code",
   "execution_count": 1,
   "id": "4a5d5e12",
   "metadata": {},
   "outputs": [],
   "source": [
    "import matplotlib.pyplot as plt\n",
    "import pandas as pd\n",
    "from neo4j import GraphDatabase, basic_auth\n",
    "from pykeen import predict\n",
    "from pykeen.pipeline import pipeline\n",
    "from pykeen.triples import TriplesFactory\n",
    "from sklearn.decomposition import PCA\n",
    "from tqdm.notebook import tqdm"
   ]
  },
  {
   "cell_type": "markdown",
   "id": "facd1844",
   "metadata": {},
   "source": [
    "### Hyperparameter definitions\n"
   ]
  },
  {
   "cell_type": "markdown",
   "id": "56328d06",
   "metadata": {},
   "source": [
    "The next cell establishes a connection to the Neo4j database.\n"
   ]
  },
  {
   "cell_type": "markdown",
   "id": "9916b399",
   "metadata": {},
   "source": [
    "<div style=\"\n",
    "  background-color: #f7f2ff;\n",
    "  color: #4b007d;\n",
    "  border-left: 5px solid #8000ff;\n",
    "  padding: 14px 18px;\n",
    "  border-radius: 8px;\n",
    "  font-size: 15px;\n",
    "  width: 85%;\n",
    "  margin: 16px 0;\n",
    "  box-shadow: 0 1px 3px rgba(0,0,0,0.1);\n",
    "\">\n",
    "  📝 <strong>TODO:</strong>  \n",
    "  <br><br>\n",
    "  <strong>Complete the cell below with your credentials for authentification to your Neo4j database.</strong><br><br>\n",
    "  💡 <em>Hint:</em>If you can't find your downloaded credentials, you could also look for them within the Neo4j Sandbox. They should look something like this:<br><br>\n",
    "  <div style=\"text-align: center; margin: 16px 0;\">\n",
    "    <img src=\"https://github.com/wliaw/2025-AAI-Summit-GraphDB/blob/main/imgs/Connecting Via Drivers.png?raw=true\" alt=\"Neo4j Connecting Via Drivers\" style=\"max-width: 600px; width: 100%; border-radius: 8px; box-shadow: 0 4px 12px rgba(0,0,0,0.15);\">\n",
    "    <p style=\"color: #555; font-size: 0.9em; margin-top: 8px;\"><em>Neo4j Sandbox – Connecting Via Drivers</em></p>\n",
    "  </div>\n",
    "</div>\n"
   ]
  },
  {
   "cell_type": "code",
   "execution_count": 2,
   "id": "19a8a77f",
   "metadata": {},
   "outputs": [],
   "source": [
    "# host = ...  # TODO\n",
    "# user = ...  # TODO\n",
    "# password = ...  # TODO\n",
    "# driver = GraphDatabase.driver(host, auth=basic_auth(user, password))"
   ]
  },
  {
   "cell_type": "code",
   "execution_count": 3,
   "id": "60f9cf12",
   "metadata": {},
   "outputs": [],
   "source": [
    "host = \"bolt://3.83.152.156:7687\"\n",
    "user = \"neo4j\"\n",
    "password = \"feather-deal-sterilizers\"\n",
    "driver = GraphDatabase.driver(host, auth=basic_auth(user, password))"
   ]
  },
  {
   "cell_type": "markdown",
   "id": "2b51d4e6",
   "metadata": {},
   "source": [
    "<div style=\"\n",
    "  background-color: #f0f8ff;\n",
    "  color: #004080;\n",
    "  border-left: 5px solid #3399ff;\n",
    "  padding: 14px 18px;\n",
    "  border-radius: 8px;\n",
    "  font-size: 15px;\n",
    "  width: 85%;\n",
    "  margin-bottom: 20px;\n",
    "  box-shadow: 0 1px 3px rgba(0,0,0,0.1);\n",
    "\">\n",
    "  ℹ️ <strong>Info:</strong> In case connecting to Neo4j goes wrong, one could always use the Sandbox to connect to the database, perform queries, download data...\n",
    "</div>\n"
   ]
  },
  {
   "cell_type": "markdown",
   "id": "d07fcb99",
   "metadata": {},
   "source": [
    "### Auxiliary functions\n"
   ]
  },
  {
   "cell_type": "markdown",
   "id": "079ff947",
   "metadata": {},
   "source": [
    "The `run_query` function executes a Cypher query and returns the results as a Pandas DataFrame.\n"
   ]
  },
  {
   "cell_type": "code",
   "execution_count": 4,
   "id": "ee9a1139",
   "metadata": {},
   "outputs": [],
   "source": [
    "def run_query(query, params={}):\n",
    "    with driver.session() as session:\n",
    "        result = session.run(query, params)\n",
    "        return pd.DataFrame([r.values() for r in result], columns=result.keys())"
   ]
  },
  {
   "cell_type": "markdown",
   "id": "67980348",
   "metadata": {},
   "source": [
    "### Data import & analysis\n",
    "\n",
    "First, we will convert the Neo4j graph into a PyKEEN-compatible format and split the data into training and testing sets.\n"
   ]
  },
  {
   "cell_type": "markdown",
   "id": "bd9b000b",
   "metadata": {},
   "source": [
    "<div style=\"\n",
    "  background-color: #f7f2ff;\n",
    "  color: #4b007d;\n",
    "  border-left: 5px solid #8000ff;\n",
    "  padding: 14px 18px;\n",
    "  border-radius: 8px;\n",
    "  font-size: 15px;\n",
    "  width: 85%;\n",
    "  margin: 16px 0;\n",
    "  box-shadow: 0 1px 3px rgba(0,0,0,0.1);\n",
    "\">\n",
    "  📝 <strong>Quick Question:</strong>  \n",
    "  <br><br>\n",
    "  <strong>How can we extract all fraud-related triples (e.g., shared identifiers, similarity, and transfers between fraudulent clients) for graph visualization in Python?</strong><br><br>\n",
    "  💡 <em>Hint:</em> In Cypher, use the function <code>elementId(n)</code> to get a node's ID. You should get a <code>pd.DataFrame</code> with the columns: source, target, type (of their relationship).\n",
    "</div>\n"
   ]
  },
  {
   "cell_type": "markdown",
   "id": "511bbbf9",
   "metadata": {},
   "source": [
    "<div style=\"\n",
    "  border: 1px dashed #8000ff;\n",
    "  background-color: #fdfbff;\n",
    "  padding: 14px 18px;\n",
    "  border-radius: 6px;\n",
    "  font-family: monospace;\n",
    "  width: 85%;\n",
    "  color: #333;\n",
    "\">\n",
    "<strong>Write your answer below:</strong>\n",
    "<code></code>\n",
    "</div>\n"
   ]
  },
  {
   "cell_type": "code",
   "execution_count": 5,
   "id": "a78b4d75",
   "metadata": {},
   "outputs": [],
   "source": [
    "# data = run_query(\n",
    "#     \"\"\"\n",
    "#     MATCH (s:Client)-[r:<TODO>]->(t)\n",
    "#     RETURN elementId(s) as source, elementId(t) AS target, type(r) as type\n",
    "#     \"\"\"\n",
    "# )\n",
    "# data"
   ]
  },
  {
   "cell_type": "markdown",
   "id": "610b5b35",
   "metadata": {},
   "source": [
    "**Answer:**\n"
   ]
  },
  {
   "cell_type": "code",
   "execution_count": 6,
   "id": "562a480b",
   "metadata": {},
   "outputs": [
    {
     "data": {
      "text/html": [
       "<div>\n",
       "<style scoped>\n",
       "    .dataframe tbody tr th:only-of-type {\n",
       "        vertical-align: middle;\n",
       "    }\n",
       "\n",
       "    .dataframe tbody tr th {\n",
       "        vertical-align: top;\n",
       "    }\n",
       "\n",
       "    .dataframe thead th {\n",
       "        text-align: right;\n",
       "    }\n",
       "</style>\n",
       "<table border=\"1\" class=\"dataframe\">\n",
       "  <thead>\n",
       "    <tr style=\"text-align: right;\">\n",
       "      <th></th>\n",
       "      <th>source</th>\n",
       "      <th>target</th>\n",
       "      <th>type</th>\n",
       "    </tr>\n",
       "  </thead>\n",
       "  <tbody>\n",
       "    <tr>\n",
       "      <th>0</th>\n",
       "      <td>4:a86637d1-a510-4629-9a21-54d6f5d853c7:0</td>\n",
       "      <td>4:a86637d1-a510-4629-9a21-54d6f5d853c7:328784</td>\n",
       "      <td>HAS_SSN</td>\n",
       "    </tr>\n",
       "    <tr>\n",
       "      <th>1</th>\n",
       "      <td>4:a86637d1-a510-4629-9a21-54d6f5d853c7:0</td>\n",
       "      <td>4:a86637d1-a510-4629-9a21-54d6f5d853c7:328785</td>\n",
       "      <td>HAS_EMAIL</td>\n",
       "    </tr>\n",
       "    <tr>\n",
       "      <th>2</th>\n",
       "      <td>4:a86637d1-a510-4629-9a21-54d6f5d853c7:0</td>\n",
       "      <td>4:a86637d1-a510-4629-9a21-54d6f5d853c7:328786</td>\n",
       "      <td>HAS_PHONE</td>\n",
       "    </tr>\n",
       "    <tr>\n",
       "      <th>3</th>\n",
       "      <td>4:a86637d1-a510-4629-9a21-54d6f5d853c7:5</td>\n",
       "      <td>4:a86637d1-a510-4629-9a21-54d6f5d853c7:329768</td>\n",
       "      <td>HAS_SSN</td>\n",
       "    </tr>\n",
       "    <tr>\n",
       "      <th>4</th>\n",
       "      <td>4:a86637d1-a510-4629-9a21-54d6f5d853c7:5</td>\n",
       "      <td>4:a86637d1-a510-4629-9a21-54d6f5d853c7:329769</td>\n",
       "      <td>HAS_EMAIL</td>\n",
       "    </tr>\n",
       "    <tr>\n",
       "      <th>...</th>\n",
       "      <td>...</td>\n",
       "      <td>...</td>\n",
       "      <td>...</td>\n",
       "    </tr>\n",
       "    <tr>\n",
       "      <th>10108</th>\n",
       "      <td>4:a86637d1-a510-4629-9a21-54d6f5d853c7:326201</td>\n",
       "      <td>4:a86637d1-a510-4629-9a21-54d6f5d853c7:151199</td>\n",
       "      <td>SIMILAR_TO</td>\n",
       "    </tr>\n",
       "    <tr>\n",
       "      <th>10109</th>\n",
       "      <td>4:a86637d1-a510-4629-9a21-54d6f5d853c7:326201</td>\n",
       "      <td>4:a86637d1-a510-4629-9a21-54d6f5d853c7:315146</td>\n",
       "      <td>SIMILAR_TO</td>\n",
       "    </tr>\n",
       "    <tr>\n",
       "      <th>10110</th>\n",
       "      <td>4:a86637d1-a510-4629-9a21-54d6f5d853c7:326201</td>\n",
       "      <td>4:a86637d1-a510-4629-9a21-54d6f5d853c7:332787</td>\n",
       "      <td>HAS_PHONE</td>\n",
       "    </tr>\n",
       "    <tr>\n",
       "      <th>10111</th>\n",
       "      <td>4:a86637d1-a510-4629-9a21-54d6f5d853c7:326201</td>\n",
       "      <td>4:a86637d1-a510-4629-9a21-54d6f5d853c7:332988</td>\n",
       "      <td>HAS_SSN</td>\n",
       "    </tr>\n",
       "    <tr>\n",
       "      <th>10112</th>\n",
       "      <td>4:a86637d1-a510-4629-9a21-54d6f5d853c7:326201</td>\n",
       "      <td>4:a86637d1-a510-4629-9a21-54d6f5d853c7:332811</td>\n",
       "      <td>HAS_EMAIL</td>\n",
       "    </tr>\n",
       "  </tbody>\n",
       "</table>\n",
       "<p>10113 rows × 3 columns</p>\n",
       "</div>"
      ],
      "text/plain": [
       "                                              source  \\\n",
       "0           4:a86637d1-a510-4629-9a21-54d6f5d853c7:0   \n",
       "1           4:a86637d1-a510-4629-9a21-54d6f5d853c7:0   \n",
       "2           4:a86637d1-a510-4629-9a21-54d6f5d853c7:0   \n",
       "3           4:a86637d1-a510-4629-9a21-54d6f5d853c7:5   \n",
       "4           4:a86637d1-a510-4629-9a21-54d6f5d853c7:5   \n",
       "...                                              ...   \n",
       "10108  4:a86637d1-a510-4629-9a21-54d6f5d853c7:326201   \n",
       "10109  4:a86637d1-a510-4629-9a21-54d6f5d853c7:326201   \n",
       "10110  4:a86637d1-a510-4629-9a21-54d6f5d853c7:326201   \n",
       "10111  4:a86637d1-a510-4629-9a21-54d6f5d853c7:326201   \n",
       "10112  4:a86637d1-a510-4629-9a21-54d6f5d853c7:326201   \n",
       "\n",
       "                                              target        type  \n",
       "0      4:a86637d1-a510-4629-9a21-54d6f5d853c7:328784     HAS_SSN  \n",
       "1      4:a86637d1-a510-4629-9a21-54d6f5d853c7:328785   HAS_EMAIL  \n",
       "2      4:a86637d1-a510-4629-9a21-54d6f5d853c7:328786   HAS_PHONE  \n",
       "3      4:a86637d1-a510-4629-9a21-54d6f5d853c7:329768     HAS_SSN  \n",
       "4      4:a86637d1-a510-4629-9a21-54d6f5d853c7:329769   HAS_EMAIL  \n",
       "...                                              ...         ...  \n",
       "10108  4:a86637d1-a510-4629-9a21-54d6f5d853c7:151199  SIMILAR_TO  \n",
       "10109  4:a86637d1-a510-4629-9a21-54d6f5d853c7:315146  SIMILAR_TO  \n",
       "10110  4:a86637d1-a510-4629-9a21-54d6f5d853c7:332787   HAS_PHONE  \n",
       "10111  4:a86637d1-a510-4629-9a21-54d6f5d853c7:332988     HAS_SSN  \n",
       "10112  4:a86637d1-a510-4629-9a21-54d6f5d853c7:332811   HAS_EMAIL  \n",
       "\n",
       "[10113 rows x 3 columns]"
      ]
     },
     "execution_count": 6,
     "metadata": {},
     "output_type": "execute_result"
    }
   ],
   "source": [
    "data = run_query(\n",
    "    \"\"\"\n",
    "    MATCH (s:Client)-[r:HAS_EMAIL|HAS_PHONE|HAS_SSN|SHARED_IDENTIFIERS|SIMILAR_TO|TRANSFER_TO]->(t)\n",
    "    RETURN elementId(s) as source, elementId(t) AS target, type(r) as type\n",
    "    \"\"\"\n",
    ")\n",
    "data"
   ]
  },
  {
   "cell_type": "code",
   "execution_count": 7,
   "id": "a5dcda05",
   "metadata": {},
   "outputs": [
    {
     "data": {
      "text/html": [
       "<div>\n",
       "<style scoped>\n",
       "    .dataframe tbody tr th:only-of-type {\n",
       "        vertical-align: middle;\n",
       "    }\n",
       "\n",
       "    .dataframe tbody tr th {\n",
       "        vertical-align: top;\n",
       "    }\n",
       "\n",
       "    .dataframe thead th {\n",
       "        text-align: right;\n",
       "    }\n",
       "</style>\n",
       "<table border=\"1\" class=\"dataframe\">\n",
       "  <thead>\n",
       "    <tr style=\"text-align: right;\">\n",
       "      <th></th>\n",
       "      <th>source</th>\n",
       "      <th>target</th>\n",
       "      <th>type</th>\n",
       "    </tr>\n",
       "  </thead>\n",
       "  <tbody>\n",
       "    <tr>\n",
       "      <th>6700</th>\n",
       "      <td>4:a86637d1-a510-4629-9a21-54d6f5d853c7:63518</td>\n",
       "      <td>4:a86637d1-a510-4629-9a21-54d6f5d853c7:326490</td>\n",
       "      <td>HAS_EMAIL</td>\n",
       "    </tr>\n",
       "    <tr>\n",
       "      <th>602</th>\n",
       "      <td>4:a86637d1-a510-4629-9a21-54d6f5d853c7:570</td>\n",
       "      <td>4:a86637d1-a510-4629-9a21-54d6f5d853c7:332551</td>\n",
       "      <td>HAS_EMAIL</td>\n",
       "    </tr>\n",
       "    <tr>\n",
       "      <th>6444</th>\n",
       "      <td>4:a86637d1-a510-4629-9a21-54d6f5d853c7:42059</td>\n",
       "      <td>4:a86637d1-a510-4629-9a21-54d6f5d853c7:326523</td>\n",
       "      <td>HAS_EMAIL</td>\n",
       "    </tr>\n",
       "    <tr>\n",
       "      <th>383</th>\n",
       "      <td>4:a86637d1-a510-4629-9a21-54d6f5d853c7:384</td>\n",
       "      <td>4:a86637d1-a510-4629-9a21-54d6f5d853c7:326660</td>\n",
       "      <td>HAS_SSN</td>\n",
       "    </tr>\n",
       "    <tr>\n",
       "      <th>9121</th>\n",
       "      <td>4:a86637d1-a510-4629-9a21-54d6f5d853c7:321889</td>\n",
       "      <td>4:a86637d1-a510-4629-9a21-54d6f5d853c7:92383</td>\n",
       "      <td>SIMILAR_TO</td>\n",
       "    </tr>\n",
       "    <tr>\n",
       "      <th>1570</th>\n",
       "      <td>4:a86637d1-a510-4629-9a21-54d6f5d853c7:1404</td>\n",
       "      <td>4:a86637d1-a510-4629-9a21-54d6f5d853c7:329553</td>\n",
       "      <td>HAS_EMAIL</td>\n",
       "    </tr>\n",
       "    <tr>\n",
       "      <th>3812</th>\n",
       "      <td>4:a86637d1-a510-4629-9a21-54d6f5d853c7:4856</td>\n",
       "      <td>4:a86637d1-a510-4629-9a21-54d6f5d853c7:328006</td>\n",
       "      <td>HAS_PHONE</td>\n",
       "    </tr>\n",
       "    <tr>\n",
       "      <th>1390</th>\n",
       "      <td>4:a86637d1-a510-4629-9a21-54d6f5d853c7:1239</td>\n",
       "      <td>4:a86637d1-a510-4629-9a21-54d6f5d853c7:332219</td>\n",
       "      <td>HAS_PHONE</td>\n",
       "    </tr>\n",
       "    <tr>\n",
       "      <th>1938</th>\n",
       "      <td>4:a86637d1-a510-4629-9a21-54d6f5d853c7:1835</td>\n",
       "      <td>4:a86637d1-a510-4629-9a21-54d6f5d853c7:329547</td>\n",
       "      <td>HAS_EMAIL</td>\n",
       "    </tr>\n",
       "    <tr>\n",
       "      <th>8567</th>\n",
       "      <td>4:a86637d1-a510-4629-9a21-54d6f5d853c7:315392</td>\n",
       "      <td>4:a86637d1-a510-4629-9a21-54d6f5d853c7:332934</td>\n",
       "      <td>HAS_SSN</td>\n",
       "    </tr>\n",
       "    <tr>\n",
       "      <th>4248</th>\n",
       "      <td>4:a86637d1-a510-4629-9a21-54d6f5d853c7:5880</td>\n",
       "      <td>4:a86637d1-a510-4629-9a21-54d6f5d853c7:328140</td>\n",
       "      <td>HAS_EMAIL</td>\n",
       "    </tr>\n",
       "    <tr>\n",
       "      <th>2079</th>\n",
       "      <td>4:a86637d1-a510-4629-9a21-54d6f5d853c7:1990</td>\n",
       "      <td>4:a86637d1-a510-4629-9a21-54d6f5d853c7:330093</td>\n",
       "      <td>HAS_EMAIL</td>\n",
       "    </tr>\n",
       "    <tr>\n",
       "      <th>2788</th>\n",
       "      <td>4:a86637d1-a510-4629-9a21-54d6f5d853c7:2792</td>\n",
       "      <td>4:a86637d1-a510-4629-9a21-54d6f5d853c7:329891</td>\n",
       "      <td>HAS_SSN</td>\n",
       "    </tr>\n",
       "    <tr>\n",
       "      <th>2128</th>\n",
       "      <td>4:a86637d1-a510-4629-9a21-54d6f5d853c7:2040</td>\n",
       "      <td>4:a86637d1-a510-4629-9a21-54d6f5d853c7:328779</td>\n",
       "      <td>HAS_EMAIL</td>\n",
       "    </tr>\n",
       "    <tr>\n",
       "      <th>1332</th>\n",
       "      <td>4:a86637d1-a510-4629-9a21-54d6f5d853c7:1182</td>\n",
       "      <td>4:a86637d1-a510-4629-9a21-54d6f5d853c7:329853</td>\n",
       "      <td>HAS_EMAIL</td>\n",
       "    </tr>\n",
       "    <tr>\n",
       "      <th>9266</th>\n",
       "      <td>4:a86637d1-a510-4629-9a21-54d6f5d853c7:322851</td>\n",
       "      <td>4:a86637d1-a510-4629-9a21-54d6f5d853c7:332983</td>\n",
       "      <td>HAS_PHONE</td>\n",
       "    </tr>\n",
       "    <tr>\n",
       "      <th>5121</th>\n",
       "      <td>4:a86637d1-a510-4629-9a21-54d6f5d853c7:10405</td>\n",
       "      <td>4:a86637d1-a510-4629-9a21-54d6f5d853c7:328912</td>\n",
       "      <td>HAS_PHONE</td>\n",
       "    </tr>\n",
       "    <tr>\n",
       "      <th>7045</th>\n",
       "      <td>4:a86637d1-a510-4629-9a21-54d6f5d853c7:92415</td>\n",
       "      <td>4:a86637d1-a510-4629-9a21-54d6f5d853c7:99471</td>\n",
       "      <td>SHARED_IDENTIFIERS</td>\n",
       "    </tr>\n",
       "    <tr>\n",
       "      <th>9901</th>\n",
       "      <td>4:a86637d1-a510-4629-9a21-54d6f5d853c7:324994</td>\n",
       "      <td>4:a86637d1-a510-4629-9a21-54d6f5d853c7:332877</td>\n",
       "      <td>HAS_EMAIL</td>\n",
       "    </tr>\n",
       "    <tr>\n",
       "      <th>7850</th>\n",
       "      <td>4:a86637d1-a510-4629-9a21-54d6f5d853c7:226341</td>\n",
       "      <td>4:a86637d1-a510-4629-9a21-54d6f5d853c7:332748</td>\n",
       "      <td>HAS_PHONE</td>\n",
       "    </tr>\n",
       "  </tbody>\n",
       "</table>\n",
       "</div>"
      ],
      "text/plain": [
       "                                             source  \\\n",
       "6700   4:a86637d1-a510-4629-9a21-54d6f5d853c7:63518   \n",
       "602      4:a86637d1-a510-4629-9a21-54d6f5d853c7:570   \n",
       "6444   4:a86637d1-a510-4629-9a21-54d6f5d853c7:42059   \n",
       "383      4:a86637d1-a510-4629-9a21-54d6f5d853c7:384   \n",
       "9121  4:a86637d1-a510-4629-9a21-54d6f5d853c7:321889   \n",
       "1570    4:a86637d1-a510-4629-9a21-54d6f5d853c7:1404   \n",
       "3812    4:a86637d1-a510-4629-9a21-54d6f5d853c7:4856   \n",
       "1390    4:a86637d1-a510-4629-9a21-54d6f5d853c7:1239   \n",
       "1938    4:a86637d1-a510-4629-9a21-54d6f5d853c7:1835   \n",
       "8567  4:a86637d1-a510-4629-9a21-54d6f5d853c7:315392   \n",
       "4248    4:a86637d1-a510-4629-9a21-54d6f5d853c7:5880   \n",
       "2079    4:a86637d1-a510-4629-9a21-54d6f5d853c7:1990   \n",
       "2788    4:a86637d1-a510-4629-9a21-54d6f5d853c7:2792   \n",
       "2128    4:a86637d1-a510-4629-9a21-54d6f5d853c7:2040   \n",
       "1332    4:a86637d1-a510-4629-9a21-54d6f5d853c7:1182   \n",
       "9266  4:a86637d1-a510-4629-9a21-54d6f5d853c7:322851   \n",
       "5121   4:a86637d1-a510-4629-9a21-54d6f5d853c7:10405   \n",
       "7045   4:a86637d1-a510-4629-9a21-54d6f5d853c7:92415   \n",
       "9901  4:a86637d1-a510-4629-9a21-54d6f5d853c7:324994   \n",
       "7850  4:a86637d1-a510-4629-9a21-54d6f5d853c7:226341   \n",
       "\n",
       "                                             target                type  \n",
       "6700  4:a86637d1-a510-4629-9a21-54d6f5d853c7:326490           HAS_EMAIL  \n",
       "602   4:a86637d1-a510-4629-9a21-54d6f5d853c7:332551           HAS_EMAIL  \n",
       "6444  4:a86637d1-a510-4629-9a21-54d6f5d853c7:326523           HAS_EMAIL  \n",
       "383   4:a86637d1-a510-4629-9a21-54d6f5d853c7:326660             HAS_SSN  \n",
       "9121   4:a86637d1-a510-4629-9a21-54d6f5d853c7:92383          SIMILAR_TO  \n",
       "1570  4:a86637d1-a510-4629-9a21-54d6f5d853c7:329553           HAS_EMAIL  \n",
       "3812  4:a86637d1-a510-4629-9a21-54d6f5d853c7:328006           HAS_PHONE  \n",
       "1390  4:a86637d1-a510-4629-9a21-54d6f5d853c7:332219           HAS_PHONE  \n",
       "1938  4:a86637d1-a510-4629-9a21-54d6f5d853c7:329547           HAS_EMAIL  \n",
       "8567  4:a86637d1-a510-4629-9a21-54d6f5d853c7:332934             HAS_SSN  \n",
       "4248  4:a86637d1-a510-4629-9a21-54d6f5d853c7:328140           HAS_EMAIL  \n",
       "2079  4:a86637d1-a510-4629-9a21-54d6f5d853c7:330093           HAS_EMAIL  \n",
       "2788  4:a86637d1-a510-4629-9a21-54d6f5d853c7:329891             HAS_SSN  \n",
       "2128  4:a86637d1-a510-4629-9a21-54d6f5d853c7:328779           HAS_EMAIL  \n",
       "1332  4:a86637d1-a510-4629-9a21-54d6f5d853c7:329853           HAS_EMAIL  \n",
       "9266  4:a86637d1-a510-4629-9a21-54d6f5d853c7:332983           HAS_PHONE  \n",
       "5121  4:a86637d1-a510-4629-9a21-54d6f5d853c7:328912           HAS_PHONE  \n",
       "7045   4:a86637d1-a510-4629-9a21-54d6f5d853c7:99471  SHARED_IDENTIFIERS  \n",
       "9901  4:a86637d1-a510-4629-9a21-54d6f5d853c7:332877           HAS_EMAIL  \n",
       "7850  4:a86637d1-a510-4629-9a21-54d6f5d853c7:332748           HAS_PHONE  "
      ]
     },
     "execution_count": 7,
     "metadata": {},
     "output_type": "execute_result"
    }
   ],
   "source": [
    "data.sample(20)"
   ]
  },
  {
   "cell_type": "code",
   "execution_count": 8,
   "id": "fdf8fea5",
   "metadata": {},
   "outputs": [
    {
     "name": "stdout",
     "output_type": "stream",
     "text": [
      "<class 'pandas.core.frame.DataFrame'>\n",
      "RangeIndex: 10113 entries, 0 to 10112\n",
      "Data columns (total 3 columns):\n",
      " #   Column  Non-Null Count  Dtype \n",
      "---  ------  --------------  ----- \n",
      " 0   source  10113 non-null  object\n",
      " 1   target  10113 non-null  object\n",
      " 2   type    10113 non-null  object\n",
      "dtypes: object(3)\n",
      "memory usage: 237.1+ KB\n"
     ]
    }
   ],
   "source": [
    "data.info()"
   ]
  },
  {
   "cell_type": "code",
   "execution_count": 9,
   "id": "abbeeb1b",
   "metadata": {},
   "outputs": [
    {
     "data": {
      "text/html": [
       "<div>\n",
       "<style scoped>\n",
       "    .dataframe tbody tr th:only-of-type {\n",
       "        vertical-align: middle;\n",
       "    }\n",
       "\n",
       "    .dataframe tbody tr th {\n",
       "        vertical-align: top;\n",
       "    }\n",
       "\n",
       "    .dataframe thead th {\n",
       "        text-align: right;\n",
       "    }\n",
       "</style>\n",
       "<table border=\"1\" class=\"dataframe\">\n",
       "  <thead>\n",
       "    <tr style=\"text-align: right;\">\n",
       "      <th></th>\n",
       "      <th>source</th>\n",
       "      <th>target</th>\n",
       "      <th>type</th>\n",
       "    </tr>\n",
       "  </thead>\n",
       "  <tbody>\n",
       "    <tr>\n",
       "      <th>count</th>\n",
       "      <td>10113</td>\n",
       "      <td>10113</td>\n",
       "      <td>10113</td>\n",
       "    </tr>\n",
       "    <tr>\n",
       "      <th>unique</th>\n",
       "      <td>2433</td>\n",
       "      <td>7069</td>\n",
       "      <td>6</td>\n",
       "    </tr>\n",
       "    <tr>\n",
       "      <th>top</th>\n",
       "      <td>4:a86637d1-a510-4629-9a21-54d6f5d853c7:185687</td>\n",
       "      <td>4:a86637d1-a510-4629-9a21-54d6f5d853c7:92399</td>\n",
       "      <td>HAS_SSN</td>\n",
       "    </tr>\n",
       "    <tr>\n",
       "      <th>freq</th>\n",
       "      <td>22</td>\n",
       "      <td>25</td>\n",
       "      <td>2433</td>\n",
       "    </tr>\n",
       "  </tbody>\n",
       "</table>\n",
       "</div>"
      ],
      "text/plain": [
       "                                               source  \\\n",
       "count                                           10113   \n",
       "unique                                           2433   \n",
       "top     4:a86637d1-a510-4629-9a21-54d6f5d853c7:185687   \n",
       "freq                                               22   \n",
       "\n",
       "                                              target     type  \n",
       "count                                          10113    10113  \n",
       "unique                                          7069        6  \n",
       "top     4:a86637d1-a510-4629-9a21-54d6f5d853c7:92399  HAS_SSN  \n",
       "freq                                              25     2433  "
      ]
     },
     "execution_count": 9,
     "metadata": {},
     "output_type": "execute_result"
    }
   ],
   "source": [
    "data.describe()"
   ]
  },
  {
   "cell_type": "code",
   "execution_count": 10,
   "id": "571cb988",
   "metadata": {},
   "outputs": [
    {
     "data": {
      "text/html": [
       "<div>\n",
       "<style scoped>\n",
       "    .dataframe tbody tr th:only-of-type {\n",
       "        vertical-align: middle;\n",
       "    }\n",
       "\n",
       "    .dataframe tbody tr th {\n",
       "        vertical-align: top;\n",
       "    }\n",
       "\n",
       "    .dataframe thead th {\n",
       "        text-align: right;\n",
       "    }\n",
       "</style>\n",
       "<table border=\"1\" class=\"dataframe\">\n",
       "  <thead>\n",
       "    <tr style=\"text-align: right;\">\n",
       "      <th></th>\n",
       "      <th>source</th>\n",
       "      <th>target</th>\n",
       "      <th>type</th>\n",
       "    </tr>\n",
       "  </thead>\n",
       "  <tbody>\n",
       "    <tr>\n",
       "      <th>9060</th>\n",
       "      <td>4:a86637d1-a510-4629-9a21-54d6f5d853c7:320669</td>\n",
       "      <td>4:a86637d1-a510-4629-9a21-54d6f5d853c7:99329</td>\n",
       "      <td>SHARED_IDENTIFIERS</td>\n",
       "    </tr>\n",
       "    <tr>\n",
       "      <th>9958</th>\n",
       "      <td>4:a86637d1-a510-4629-9a21-54d6f5d853c7:325243</td>\n",
       "      <td>4:a86637d1-a510-4629-9a21-54d6f5d853c7:332842</td>\n",
       "      <td>HAS_EMAIL</td>\n",
       "    </tr>\n",
       "    <tr>\n",
       "      <th>3198</th>\n",
       "      <td>4:a86637d1-a510-4629-9a21-54d6f5d853c7:3404</td>\n",
       "      <td>4:a86637d1-a510-4629-9a21-54d6f5d853c7:326941</td>\n",
       "      <td>HAS_PHONE</td>\n",
       "    </tr>\n",
       "    <tr>\n",
       "      <th>850</th>\n",
       "      <td>4:a86637d1-a510-4629-9a21-54d6f5d853c7:775</td>\n",
       "      <td>4:a86637d1-a510-4629-9a21-54d6f5d853c7:327303</td>\n",
       "      <td>HAS_EMAIL</td>\n",
       "    </tr>\n",
       "    <tr>\n",
       "      <th>9536</th>\n",
       "      <td>4:a86637d1-a510-4629-9a21-54d6f5d853c7:323946</td>\n",
       "      <td>4:a86637d1-a510-4629-9a21-54d6f5d853c7:332732</td>\n",
       "      <td>HAS_EMAIL</td>\n",
       "    </tr>\n",
       "    <tr>\n",
       "      <th>4295</th>\n",
       "      <td>4:a86637d1-a510-4629-9a21-54d6f5d853c7:5998</td>\n",
       "      <td>4:a86637d1-a510-4629-9a21-54d6f5d853c7:332535</td>\n",
       "      <td>HAS_SSN</td>\n",
       "    </tr>\n",
       "    <tr>\n",
       "      <th>8524</th>\n",
       "      <td>4:a86637d1-a510-4629-9a21-54d6f5d853c7:315167</td>\n",
       "      <td>4:a86637d1-a510-4629-9a21-54d6f5d853c7:332874</td>\n",
       "      <td>HAS_SSN</td>\n",
       "    </tr>\n",
       "    <tr>\n",
       "      <th>893</th>\n",
       "      <td>4:a86637d1-a510-4629-9a21-54d6f5d853c7:815</td>\n",
       "      <td>4:a86637d1-a510-4629-9a21-54d6f5d853c7:332284</td>\n",
       "      <td>HAS_EMAIL</td>\n",
       "    </tr>\n",
       "    <tr>\n",
       "      <th>6934</th>\n",
       "      <td>4:a86637d1-a510-4629-9a21-54d6f5d853c7:92378</td>\n",
       "      <td>4:a86637d1-a510-4629-9a21-54d6f5d853c7:332705</td>\n",
       "      <td>HAS_SSN</td>\n",
       "    </tr>\n",
       "    <tr>\n",
       "      <th>3602</th>\n",
       "      <td>4:a86637d1-a510-4629-9a21-54d6f5d853c7:4463</td>\n",
       "      <td>4:a86637d1-a510-4629-9a21-54d6f5d853c7:329211</td>\n",
       "      <td>HAS_EMAIL</td>\n",
       "    </tr>\n",
       "  </tbody>\n",
       "</table>\n",
       "</div>"
      ],
      "text/plain": [
       "                                             source  \\\n",
       "9060  4:a86637d1-a510-4629-9a21-54d6f5d853c7:320669   \n",
       "9958  4:a86637d1-a510-4629-9a21-54d6f5d853c7:325243   \n",
       "3198    4:a86637d1-a510-4629-9a21-54d6f5d853c7:3404   \n",
       "850      4:a86637d1-a510-4629-9a21-54d6f5d853c7:775   \n",
       "9536  4:a86637d1-a510-4629-9a21-54d6f5d853c7:323946   \n",
       "4295    4:a86637d1-a510-4629-9a21-54d6f5d853c7:5998   \n",
       "8524  4:a86637d1-a510-4629-9a21-54d6f5d853c7:315167   \n",
       "893      4:a86637d1-a510-4629-9a21-54d6f5d853c7:815   \n",
       "6934   4:a86637d1-a510-4629-9a21-54d6f5d853c7:92378   \n",
       "3602    4:a86637d1-a510-4629-9a21-54d6f5d853c7:4463   \n",
       "\n",
       "                                             target                type  \n",
       "9060   4:a86637d1-a510-4629-9a21-54d6f5d853c7:99329  SHARED_IDENTIFIERS  \n",
       "9958  4:a86637d1-a510-4629-9a21-54d6f5d853c7:332842           HAS_EMAIL  \n",
       "3198  4:a86637d1-a510-4629-9a21-54d6f5d853c7:326941           HAS_PHONE  \n",
       "850   4:a86637d1-a510-4629-9a21-54d6f5d853c7:327303           HAS_EMAIL  \n",
       "9536  4:a86637d1-a510-4629-9a21-54d6f5d853c7:332732           HAS_EMAIL  \n",
       "4295  4:a86637d1-a510-4629-9a21-54d6f5d853c7:332535             HAS_SSN  \n",
       "8524  4:a86637d1-a510-4629-9a21-54d6f5d853c7:332874             HAS_SSN  \n",
       "893   4:a86637d1-a510-4629-9a21-54d6f5d853c7:332284           HAS_EMAIL  \n",
       "6934  4:a86637d1-a510-4629-9a21-54d6f5d853c7:332705             HAS_SSN  \n",
       "3602  4:a86637d1-a510-4629-9a21-54d6f5d853c7:329211           HAS_EMAIL  "
      ]
     },
     "execution_count": 10,
     "metadata": {},
     "output_type": "execute_result"
    }
   ],
   "source": [
    "data.sample(10)"
   ]
  },
  {
   "cell_type": "markdown",
   "id": "a1aacf79",
   "metadata": {},
   "source": [
    "PyKEEN provides the [`from_labeled_triples`](https://pykeen.readthedocs.io/en/stable/api/pykeen.triples.TriplesFactory.html#pykeen.triples.TriplesFactory.from_labeled_triples) method, which constructs a graph from a list of input triples.\n"
   ]
  },
  {
   "cell_type": "code",
   "execution_count": 11,
   "id": "045f9596",
   "metadata": {},
   "outputs": [],
   "source": [
    "tf = TriplesFactory.from_labeled_triples(\n",
    "    data[[\"source\", \"type\", \"target\"]].values, compact_id=False\n",
    ")"
   ]
  },
  {
   "cell_type": "markdown",
   "id": "f424bd14",
   "metadata": {},
   "source": [
    "This example uses a generic Cypher query to fetch data from any Neo4j dataset and construct a PyKEEN graph. The query retrieves the internal Neo4j node IDs to build the triples DataFrame. Since PyKEEN requires all elements in the triples to be strings, the internal IDs are cast to strings. With the PyKEEN graph constructed, the `split` method is used to partition the data into training and testing sets.\n"
   ]
  },
  {
   "cell_type": "code",
   "execution_count": 12,
   "id": "7d77b130",
   "metadata": {},
   "outputs": [],
   "source": [
    "training, testing, validation = tf.split([0.8, 0.1, 0.1], random_state=42)"
   ]
  },
  {
   "cell_type": "markdown",
   "id": "7fcdfcf6",
   "metadata": {},
   "source": [
    "### Training a Knowledge Graph Embedding Model with RotatE\n",
    "\n",
    "With the train-test data prepared, we can now train a knowledge graph embedding model. In this example, we will use RotatE [(Sun et al., 2019)](https://arxiv.org/abs/1902.10197v1), a model designed to better capture various relational patterns in a knowledge graph.\n",
    "\n",
    "Unlike TransE, which represents relations as translations in real-valued space, RotatE models relations as rotations in the complex plane. Specifically, it maps each entity to a point in the complex space, and each relation to a rotation (a complex number with modulus 1). The core idea is to enforce:\n",
    "\n",
    "$$\n",
    "t \\approx h \\circ r\n",
    "$$\n",
    "\n",
    "where \\circ denotes element-wise complex multiplication. This naturally enables RotatE to model symmetry, antisymmetry, inversion, and composition — something TransE cannot do all at once.\n",
    "\n",
    "#### 📐 Intuition Behind RotatE\n",
    "\n",
    "The diagram below illustrates the difference between how TransE and RotatE embed relations:\n",
    "\n",
    "<div style=\"text-align: center; margin: 16px 0;\">\n",
    "    <img src=\"https://github.com/wliaw/2025-AAI-Summit-GraphDB/blob/main/imgs/RotatE.png?raw=true\" alt=\"RotatE - Figure 1\" style=\"max-width: 600px; width: 100%; border-radius: 8px; box-shadow: 0 4px 12px rgba(0,0,0,0.15);\">\n",
    "    <p style=\"color: #555; font-size: 0.9em; margin-top: 8px;\"><em>RotetE - Figure 1</em></p>\n",
    "</div>\n",
    "\n",
    "#### Model Configuration\n",
    "\n",
    "To keep the tutorial simple and reproducible, we will train RotatE for $100$ epochs using an embedding dimension of $100$, with little to no hyperparameter tuning.\n",
    "\n",
    "#### 🧠 Why RotatE?\n",
    "\n",
    "RotatE was proposed to address limitations of earlier models in capturing common relational patterns. The table below summarizes how different embedding models perform in this regard:\n",
    "\n",
    "| Model    |                Score Function                | Symmetry | Antisymmetry | Inversion | Composition |\n",
    "| :------- | :------------------------------------------: | :------: | :----------: | :-------: | :---------: |\n",
    "| SE       |          $-\\|W*{r,1}h - W*{r,2}t\\|$          |    ✗     |      ✗       |     ✗     |      ✗      |\n",
    "| TransE   |               $-\\|h + r - t\\|$               |    ✗     |      ✓       |     ✓     |      ✓      |\n",
    "| TransX   |      $\\|g_{r,1}(h) + r - g_{r,2}(t)\\|$       |    ✓     |      ✓       |     ✗     |      ✗      |\n",
    "| DistMult |          $\\langle h, r, t \\rangle$           |    ✓     |      ✗       |     ✗     |      ✗      |\n",
    "| ComplEx  | $\\mathrm{Re}(\\langle h, r, \\bar{t} \\rangle)$ |    ✓     |      ✓       |     ✓     |      ✗      |\n",
    "| RotatE   |            $-\\| h \\circ r - t\\|$             |    ✓     |      ✓       |     ✓     |      ✓      |\n"
   ]
  },
  {
   "cell_type": "markdown",
   "id": "67e22754",
   "metadata": {},
   "source": [
    "<div style=\"\n",
    "  background-color: #fff0f0;\n",
    "  color: #8b0000;\n",
    "  border-left: 5px solid #ff4d4d;\n",
    "  padding: 14px 18px;\n",
    "  border-radius: 8px;\n",
    "  font-size: 15px;\n",
    "  width: 85%;\n",
    "  margin-bottom: 20px;\n",
    "  box-shadow: 0 1px 3px rgba(0,0,0,0.1);\n",
    "\">\n",
    "  ❌ <strong>Error:</strong> There seems to be a lack of compatibility between Mac's GPU and <code>torch</code> for complex numbers, so we resort to training on the CPU.\n",
    "</div>\n"
   ]
  },
  {
   "cell_type": "markdown",
   "id": "632ec0d9",
   "metadata": {},
   "source": [
    "<div style=\"\n",
    "  background-color: #f7f2ff;\n",
    "  color: #4b007d;\n",
    "  border-left: 5px solid #8000ff;\n",
    "  padding: 14px 18px;\n",
    "  border-radius: 8px;\n",
    "  font-size: 15px;\n",
    "  width: 85%;\n",
    "  margin: 16px 0;\n",
    "  box-shadow: 0 1px 3px rgba(0,0,0,0.1);\n",
    "\">\n",
    "  📝 <strong>Quick Question:</strong>  \n",
    "  <br><br>\n",
    "  <strong>Try to play a bit with the parameters, and see how good of a training you can get!</strong>\n",
    "</div>\n"
   ]
  },
  {
   "cell_type": "markdown",
   "id": "d1570f7e",
   "metadata": {},
   "source": [
    "**Answer:**\n"
   ]
  },
  {
   "cell_type": "code",
   "execution_count": 13,
   "id": "02ce9c00",
   "metadata": {},
   "outputs": [],
   "source": [
    "# result = pipeline(\n",
    "#     training=training,\n",
    "#     testing=testing,\n",
    "#     validation=validation,\n",
    "#     model=\"RotatE\",  # \"TransE\", \"DistMult\", \"ComplEx\", \"ConvE\", \"TuckER\"\n",
    "#     epochs=100,  # 50, 100, 200\n",
    "#     dimensions=300,  # 50, 100, 200, 300\n",
    "#     random_seed=42,\n",
    "#     device=\"cpu\",\n",
    "# )"
   ]
  },
  {
   "cell_type": "code",
   "execution_count": 14,
   "id": "aa01ec67",
   "metadata": {},
   "outputs": [
    {
     "data": {
      "application/vnd.jupyter.widget-view+json": {
       "model_id": "2f47d91eff0b4c719487077692caea8e",
       "version_major": 2,
       "version_minor": 0
      },
      "text/plain": [
       "Training epochs on cpu:   0%|          | 0/100 [00:00<?, ?epoch/s]"
      ]
     },
     "metadata": {},
     "output_type": "display_data"
    },
    {
     "data": {
      "application/vnd.jupyter.widget-view+json": {
       "model_id": "32461475d5d94bc293e01f72f423fd39",
       "version_major": 2,
       "version_minor": 0
      },
      "text/plain": [
       "Training batches on cpu:   0%|          | 0/32 [00:00<?, ?batch/s]"
      ]
     },
     "metadata": {},
     "output_type": "display_data"
    },
    {
     "data": {
      "application/vnd.jupyter.widget-view+json": {
       "model_id": "758595840a764062993d21396b703dff",
       "version_major": 2,
       "version_minor": 0
      },
      "text/plain": [
       "Training batches on cpu:   0%|          | 0/32 [00:00<?, ?batch/s]"
      ]
     },
     "metadata": {},
     "output_type": "display_data"
    },
    {
     "data": {
      "application/vnd.jupyter.widget-view+json": {
       "model_id": "f62cf8168f9a4225aebc85d5e6d34800",
       "version_major": 2,
       "version_minor": 0
      },
      "text/plain": [
       "Training batches on cpu:   0%|          | 0/32 [00:00<?, ?batch/s]"
      ]
     },
     "metadata": {},
     "output_type": "display_data"
    },
    {
     "data": {
      "application/vnd.jupyter.widget-view+json": {
       "model_id": "46ccffc06af94ca8a948a4d39166e7e6",
       "version_major": 2,
       "version_minor": 0
      },
      "text/plain": [
       "Training batches on cpu:   0%|          | 0/32 [00:00<?, ?batch/s]"
      ]
     },
     "metadata": {},
     "output_type": "display_data"
    },
    {
     "data": {
      "application/vnd.jupyter.widget-view+json": {
       "model_id": "2679db7b80e24d63a6c786faa281ee75",
       "version_major": 2,
       "version_minor": 0
      },
      "text/plain": [
       "Training batches on cpu:   0%|          | 0/32 [00:00<?, ?batch/s]"
      ]
     },
     "metadata": {},
     "output_type": "display_data"
    },
    {
     "data": {
      "application/vnd.jupyter.widget-view+json": {
       "model_id": "b26224f50ca54d9eb99723321fe5bfad",
       "version_major": 2,
       "version_minor": 0
      },
      "text/plain": [
       "Training batches on cpu:   0%|          | 0/32 [00:00<?, ?batch/s]"
      ]
     },
     "metadata": {},
     "output_type": "display_data"
    },
    {
     "data": {
      "application/vnd.jupyter.widget-view+json": {
       "model_id": "49a9ac6e4f4042e68be8748e06f9a9f7",
       "version_major": 2,
       "version_minor": 0
      },
      "text/plain": [
       "Training batches on cpu:   0%|          | 0/32 [00:00<?, ?batch/s]"
      ]
     },
     "metadata": {},
     "output_type": "display_data"
    },
    {
     "data": {
      "application/vnd.jupyter.widget-view+json": {
       "model_id": "e24537b2b6e64adb8a23d8e57497cca8",
       "version_major": 2,
       "version_minor": 0
      },
      "text/plain": [
       "Training batches on cpu:   0%|          | 0/32 [00:00<?, ?batch/s]"
      ]
     },
     "metadata": {},
     "output_type": "display_data"
    },
    {
     "data": {
      "application/vnd.jupyter.widget-view+json": {
       "model_id": "25256c1eb471499086c56149abaf5041",
       "version_major": 2,
       "version_minor": 0
      },
      "text/plain": [
       "Training batches on cpu:   0%|          | 0/32 [00:00<?, ?batch/s]"
      ]
     },
     "metadata": {},
     "output_type": "display_data"
    },
    {
     "data": {
      "application/vnd.jupyter.widget-view+json": {
       "model_id": "daa85dc624fc49e99ac9d66c59ad4474",
       "version_major": 2,
       "version_minor": 0
      },
      "text/plain": [
       "Training batches on cpu:   0%|          | 0/32 [00:00<?, ?batch/s]"
      ]
     },
     "metadata": {},
     "output_type": "display_data"
    },
    {
     "data": {
      "application/vnd.jupyter.widget-view+json": {
       "model_id": "f8350139891347339517a2f89e7a5033",
       "version_major": 2,
       "version_minor": 0
      },
      "text/plain": [
       "Training batches on cpu:   0%|          | 0/32 [00:00<?, ?batch/s]"
      ]
     },
     "metadata": {},
     "output_type": "display_data"
    },
    {
     "data": {
      "application/vnd.jupyter.widget-view+json": {
       "model_id": "85ae72df7ab9456eb6ff94fff5fac990",
       "version_major": 2,
       "version_minor": 0
      },
      "text/plain": [
       "Training batches on cpu:   0%|          | 0/32 [00:00<?, ?batch/s]"
      ]
     },
     "metadata": {},
     "output_type": "display_data"
    },
    {
     "data": {
      "application/vnd.jupyter.widget-view+json": {
       "model_id": "8d55444f2064459b8670d130b9fad572",
       "version_major": 2,
       "version_minor": 0
      },
      "text/plain": [
       "Training batches on cpu:   0%|          | 0/32 [00:00<?, ?batch/s]"
      ]
     },
     "metadata": {},
     "output_type": "display_data"
    },
    {
     "data": {
      "application/vnd.jupyter.widget-view+json": {
       "model_id": "ce85b5cc55c34db7bb4a00f2e937f309",
       "version_major": 2,
       "version_minor": 0
      },
      "text/plain": [
       "Training batches on cpu:   0%|          | 0/32 [00:00<?, ?batch/s]"
      ]
     },
     "metadata": {},
     "output_type": "display_data"
    },
    {
     "data": {
      "application/vnd.jupyter.widget-view+json": {
       "model_id": "548c3bb1b5664dbe8080e6eea20d7d27",
       "version_major": 2,
       "version_minor": 0
      },
      "text/plain": [
       "Training batches on cpu:   0%|          | 0/32 [00:00<?, ?batch/s]"
      ]
     },
     "metadata": {},
     "output_type": "display_data"
    },
    {
     "data": {
      "application/vnd.jupyter.widget-view+json": {
       "model_id": "8cada95a3dee4c089864e0b54f6553c9",
       "version_major": 2,
       "version_minor": 0
      },
      "text/plain": [
       "Training batches on cpu:   0%|          | 0/32 [00:00<?, ?batch/s]"
      ]
     },
     "metadata": {},
     "output_type": "display_data"
    },
    {
     "data": {
      "application/vnd.jupyter.widget-view+json": {
       "model_id": "e980fd0726994d6fa6458520091c23bb",
       "version_major": 2,
       "version_minor": 0
      },
      "text/plain": [
       "Training batches on cpu:   0%|          | 0/32 [00:00<?, ?batch/s]"
      ]
     },
     "metadata": {},
     "output_type": "display_data"
    },
    {
     "data": {
      "application/vnd.jupyter.widget-view+json": {
       "model_id": "245aabf386724ae697052adf08582884",
       "version_major": 2,
       "version_minor": 0
      },
      "text/plain": [
       "Training batches on cpu:   0%|          | 0/32 [00:00<?, ?batch/s]"
      ]
     },
     "metadata": {},
     "output_type": "display_data"
    },
    {
     "data": {
      "application/vnd.jupyter.widget-view+json": {
       "model_id": "cc8a9089a59a429ab1d63cde782a4ce6",
       "version_major": 2,
       "version_minor": 0
      },
      "text/plain": [
       "Training batches on cpu:   0%|          | 0/32 [00:00<?, ?batch/s]"
      ]
     },
     "metadata": {},
     "output_type": "display_data"
    },
    {
     "data": {
      "application/vnd.jupyter.widget-view+json": {
       "model_id": "3023384dca904b959e4c68155d95d456",
       "version_major": 2,
       "version_minor": 0
      },
      "text/plain": [
       "Training batches on cpu:   0%|          | 0/32 [00:00<?, ?batch/s]"
      ]
     },
     "metadata": {},
     "output_type": "display_data"
    },
    {
     "data": {
      "application/vnd.jupyter.widget-view+json": {
       "model_id": "ffd8b0a883c841a48dce9eb3713b6eab",
       "version_major": 2,
       "version_minor": 0
      },
      "text/plain": [
       "Training batches on cpu:   0%|          | 0/32 [00:00<?, ?batch/s]"
      ]
     },
     "metadata": {},
     "output_type": "display_data"
    },
    {
     "data": {
      "application/vnd.jupyter.widget-view+json": {
       "model_id": "e981ebaa51b04654888e8c74afaaad3b",
       "version_major": 2,
       "version_minor": 0
      },
      "text/plain": [
       "Training batches on cpu:   0%|          | 0/32 [00:00<?, ?batch/s]"
      ]
     },
     "metadata": {},
     "output_type": "display_data"
    },
    {
     "data": {
      "application/vnd.jupyter.widget-view+json": {
       "model_id": "72130f632092442baff11e5aef7796af",
       "version_major": 2,
       "version_minor": 0
      },
      "text/plain": [
       "Training batches on cpu:   0%|          | 0/32 [00:00<?, ?batch/s]"
      ]
     },
     "metadata": {},
     "output_type": "display_data"
    },
    {
     "data": {
      "application/vnd.jupyter.widget-view+json": {
       "model_id": "a00646b2afb543a7a3fd433b56d3cfeb",
       "version_major": 2,
       "version_minor": 0
      },
      "text/plain": [
       "Training batches on cpu:   0%|          | 0/32 [00:00<?, ?batch/s]"
      ]
     },
     "metadata": {},
     "output_type": "display_data"
    },
    {
     "data": {
      "application/vnd.jupyter.widget-view+json": {
       "model_id": "559b973683de4d3ba821e9c2a92b7cf8",
       "version_major": 2,
       "version_minor": 0
      },
      "text/plain": [
       "Training batches on cpu:   0%|          | 0/32 [00:00<?, ?batch/s]"
      ]
     },
     "metadata": {},
     "output_type": "display_data"
    },
    {
     "data": {
      "application/vnd.jupyter.widget-view+json": {
       "model_id": "6f8c3312312d499bb6dc6984e050b3e2",
       "version_major": 2,
       "version_minor": 0
      },
      "text/plain": [
       "Training batches on cpu:   0%|          | 0/32 [00:00<?, ?batch/s]"
      ]
     },
     "metadata": {},
     "output_type": "display_data"
    },
    {
     "data": {
      "application/vnd.jupyter.widget-view+json": {
       "model_id": "fc877ee3f9044aabbb0e21aaa4ae8fbc",
       "version_major": 2,
       "version_minor": 0
      },
      "text/plain": [
       "Training batches on cpu:   0%|          | 0/32 [00:00<?, ?batch/s]"
      ]
     },
     "metadata": {},
     "output_type": "display_data"
    },
    {
     "data": {
      "application/vnd.jupyter.widget-view+json": {
       "model_id": "2dec7c2ed52f4b9eb4813891efb3eb57",
       "version_major": 2,
       "version_minor": 0
      },
      "text/plain": [
       "Training batches on cpu:   0%|          | 0/32 [00:00<?, ?batch/s]"
      ]
     },
     "metadata": {},
     "output_type": "display_data"
    },
    {
     "data": {
      "application/vnd.jupyter.widget-view+json": {
       "model_id": "240020ef460344c98816566a8147d932",
       "version_major": 2,
       "version_minor": 0
      },
      "text/plain": [
       "Training batches on cpu:   0%|          | 0/32 [00:00<?, ?batch/s]"
      ]
     },
     "metadata": {},
     "output_type": "display_data"
    },
    {
     "data": {
      "application/vnd.jupyter.widget-view+json": {
       "model_id": "c060d642296b4710925a849b0f235436",
       "version_major": 2,
       "version_minor": 0
      },
      "text/plain": [
       "Training batches on cpu:   0%|          | 0/32 [00:00<?, ?batch/s]"
      ]
     },
     "metadata": {},
     "output_type": "display_data"
    },
    {
     "data": {
      "application/vnd.jupyter.widget-view+json": {
       "model_id": "574f7aeefafa4d7fa59ad6f19efe7275",
       "version_major": 2,
       "version_minor": 0
      },
      "text/plain": [
       "Training batches on cpu:   0%|          | 0/32 [00:00<?, ?batch/s]"
      ]
     },
     "metadata": {},
     "output_type": "display_data"
    },
    {
     "data": {
      "application/vnd.jupyter.widget-view+json": {
       "model_id": "4f112da30a634caf8be95045ad135b22",
       "version_major": 2,
       "version_minor": 0
      },
      "text/plain": [
       "Training batches on cpu:   0%|          | 0/32 [00:00<?, ?batch/s]"
      ]
     },
     "metadata": {},
     "output_type": "display_data"
    },
    {
     "data": {
      "application/vnd.jupyter.widget-view+json": {
       "model_id": "bbe462b5f4954692ba2d229324ace30a",
       "version_major": 2,
       "version_minor": 0
      },
      "text/plain": [
       "Training batches on cpu:   0%|          | 0/32 [00:00<?, ?batch/s]"
      ]
     },
     "metadata": {},
     "output_type": "display_data"
    },
    {
     "data": {
      "application/vnd.jupyter.widget-view+json": {
       "model_id": "04d27bed768644ac9276492639fcb437",
       "version_major": 2,
       "version_minor": 0
      },
      "text/plain": [
       "Training batches on cpu:   0%|          | 0/32 [00:00<?, ?batch/s]"
      ]
     },
     "metadata": {},
     "output_type": "display_data"
    },
    {
     "data": {
      "application/vnd.jupyter.widget-view+json": {
       "model_id": "894e9613592c4867bc45422b30cd2aef",
       "version_major": 2,
       "version_minor": 0
      },
      "text/plain": [
       "Training batches on cpu:   0%|          | 0/32 [00:00<?, ?batch/s]"
      ]
     },
     "metadata": {},
     "output_type": "display_data"
    },
    {
     "data": {
      "application/vnd.jupyter.widget-view+json": {
       "model_id": "d0d48305633d49b382eeeb32a4f69bdd",
       "version_major": 2,
       "version_minor": 0
      },
      "text/plain": [
       "Training batches on cpu:   0%|          | 0/32 [00:00<?, ?batch/s]"
      ]
     },
     "metadata": {},
     "output_type": "display_data"
    },
    {
     "data": {
      "application/vnd.jupyter.widget-view+json": {
       "model_id": "c41bf5b55133447e87f8785588796162",
       "version_major": 2,
       "version_minor": 0
      },
      "text/plain": [
       "Training batches on cpu:   0%|          | 0/32 [00:00<?, ?batch/s]"
      ]
     },
     "metadata": {},
     "output_type": "display_data"
    },
    {
     "data": {
      "application/vnd.jupyter.widget-view+json": {
       "model_id": "5dfaf47a2c03450fac25e63eb8b4514b",
       "version_major": 2,
       "version_minor": 0
      },
      "text/plain": [
       "Training batches on cpu:   0%|          | 0/32 [00:00<?, ?batch/s]"
      ]
     },
     "metadata": {},
     "output_type": "display_data"
    },
    {
     "data": {
      "application/vnd.jupyter.widget-view+json": {
       "model_id": "ab187a6101df4549bacc11e43cf96fcd",
       "version_major": 2,
       "version_minor": 0
      },
      "text/plain": [
       "Training batches on cpu:   0%|          | 0/32 [00:00<?, ?batch/s]"
      ]
     },
     "metadata": {},
     "output_type": "display_data"
    },
    {
     "data": {
      "application/vnd.jupyter.widget-view+json": {
       "model_id": "cf85aa2934e04475863d2dabc3d1aa28",
       "version_major": 2,
       "version_minor": 0
      },
      "text/plain": [
       "Training batches on cpu:   0%|          | 0/32 [00:00<?, ?batch/s]"
      ]
     },
     "metadata": {},
     "output_type": "display_data"
    },
    {
     "data": {
      "application/vnd.jupyter.widget-view+json": {
       "model_id": "4d8b7c41f1924d1e99890bf879e1038d",
       "version_major": 2,
       "version_minor": 0
      },
      "text/plain": [
       "Training batches on cpu:   0%|          | 0/32 [00:00<?, ?batch/s]"
      ]
     },
     "metadata": {},
     "output_type": "display_data"
    },
    {
     "data": {
      "application/vnd.jupyter.widget-view+json": {
       "model_id": "39b8b393610d4f3986da7ad8f6a8163c",
       "version_major": 2,
       "version_minor": 0
      },
      "text/plain": [
       "Training batches on cpu:   0%|          | 0/32 [00:00<?, ?batch/s]"
      ]
     },
     "metadata": {},
     "output_type": "display_data"
    },
    {
     "data": {
      "application/vnd.jupyter.widget-view+json": {
       "model_id": "776dc500c15a4b7d96a88f2f1e3939bc",
       "version_major": 2,
       "version_minor": 0
      },
      "text/plain": [
       "Training batches on cpu:   0%|          | 0/32 [00:00<?, ?batch/s]"
      ]
     },
     "metadata": {},
     "output_type": "display_data"
    },
    {
     "data": {
      "application/vnd.jupyter.widget-view+json": {
       "model_id": "e683aa297029496b8a4c694d24346571",
       "version_major": 2,
       "version_minor": 0
      },
      "text/plain": [
       "Training batches on cpu:   0%|          | 0/32 [00:00<?, ?batch/s]"
      ]
     },
     "metadata": {},
     "output_type": "display_data"
    },
    {
     "data": {
      "application/vnd.jupyter.widget-view+json": {
       "model_id": "a8050ef5216948d4beb6c5345949a251",
       "version_major": 2,
       "version_minor": 0
      },
      "text/plain": [
       "Training batches on cpu:   0%|          | 0/32 [00:00<?, ?batch/s]"
      ]
     },
     "metadata": {},
     "output_type": "display_data"
    },
    {
     "data": {
      "application/vnd.jupyter.widget-view+json": {
       "model_id": "dc4e33a5ecfb44ddbe954a3842a93e04",
       "version_major": 2,
       "version_minor": 0
      },
      "text/plain": [
       "Training batches on cpu:   0%|          | 0/32 [00:00<?, ?batch/s]"
      ]
     },
     "metadata": {},
     "output_type": "display_data"
    },
    {
     "data": {
      "application/vnd.jupyter.widget-view+json": {
       "model_id": "b94941d680294dfab02980c8642f8e10",
       "version_major": 2,
       "version_minor": 0
      },
      "text/plain": [
       "Training batches on cpu:   0%|          | 0/32 [00:00<?, ?batch/s]"
      ]
     },
     "metadata": {},
     "output_type": "display_data"
    },
    {
     "data": {
      "application/vnd.jupyter.widget-view+json": {
       "model_id": "43639ad22a9541b9ba63ffff5b435afe",
       "version_major": 2,
       "version_minor": 0
      },
      "text/plain": [
       "Training batches on cpu:   0%|          | 0/32 [00:00<?, ?batch/s]"
      ]
     },
     "metadata": {},
     "output_type": "display_data"
    },
    {
     "data": {
      "application/vnd.jupyter.widget-view+json": {
       "model_id": "9d2b9982675c41b5b091340a92ebcba7",
       "version_major": 2,
       "version_minor": 0
      },
      "text/plain": [
       "Training batches on cpu:   0%|          | 0/32 [00:00<?, ?batch/s]"
      ]
     },
     "metadata": {},
     "output_type": "display_data"
    },
    {
     "data": {
      "application/vnd.jupyter.widget-view+json": {
       "model_id": "5cee2146e43e4e1bbe894608f361383f",
       "version_major": 2,
       "version_minor": 0
      },
      "text/plain": [
       "Training batches on cpu:   0%|          | 0/32 [00:00<?, ?batch/s]"
      ]
     },
     "metadata": {},
     "output_type": "display_data"
    },
    {
     "data": {
      "application/vnd.jupyter.widget-view+json": {
       "model_id": "5ebae0f71f3643288c00125920f1fe7d",
       "version_major": 2,
       "version_minor": 0
      },
      "text/plain": [
       "Training batches on cpu:   0%|          | 0/32 [00:00<?, ?batch/s]"
      ]
     },
     "metadata": {},
     "output_type": "display_data"
    },
    {
     "data": {
      "application/vnd.jupyter.widget-view+json": {
       "model_id": "b554bb4f258f48b99ec7b661c2f46fae",
       "version_major": 2,
       "version_minor": 0
      },
      "text/plain": [
       "Training batches on cpu:   0%|          | 0/32 [00:00<?, ?batch/s]"
      ]
     },
     "metadata": {},
     "output_type": "display_data"
    },
    {
     "data": {
      "application/vnd.jupyter.widget-view+json": {
       "model_id": "ecdd3f908a524a269b1cd0ebed0fa15b",
       "version_major": 2,
       "version_minor": 0
      },
      "text/plain": [
       "Training batches on cpu:   0%|          | 0/32 [00:00<?, ?batch/s]"
      ]
     },
     "metadata": {},
     "output_type": "display_data"
    },
    {
     "data": {
      "application/vnd.jupyter.widget-view+json": {
       "model_id": "7f830ea3a55e4f2b88cdfb3d1b70a85b",
       "version_major": 2,
       "version_minor": 0
      },
      "text/plain": [
       "Training batches on cpu:   0%|          | 0/32 [00:00<?, ?batch/s]"
      ]
     },
     "metadata": {},
     "output_type": "display_data"
    },
    {
     "data": {
      "application/vnd.jupyter.widget-view+json": {
       "model_id": "291e8b105ddf4fd2b23d4e668e1d4517",
       "version_major": 2,
       "version_minor": 0
      },
      "text/plain": [
       "Training batches on cpu:   0%|          | 0/32 [00:00<?, ?batch/s]"
      ]
     },
     "metadata": {},
     "output_type": "display_data"
    },
    {
     "data": {
      "application/vnd.jupyter.widget-view+json": {
       "model_id": "c28821e7769b4290a9be56b69ab06130",
       "version_major": 2,
       "version_minor": 0
      },
      "text/plain": [
       "Training batches on cpu:   0%|          | 0/32 [00:00<?, ?batch/s]"
      ]
     },
     "metadata": {},
     "output_type": "display_data"
    },
    {
     "data": {
      "application/vnd.jupyter.widget-view+json": {
       "model_id": "95a5a270f07547da83c0f03e660aee38",
       "version_major": 2,
       "version_minor": 0
      },
      "text/plain": [
       "Training batches on cpu:   0%|          | 0/32 [00:00<?, ?batch/s]"
      ]
     },
     "metadata": {},
     "output_type": "display_data"
    },
    {
     "data": {
      "application/vnd.jupyter.widget-view+json": {
       "model_id": "f4f0658052d248b28a941ce6331decca",
       "version_major": 2,
       "version_minor": 0
      },
      "text/plain": [
       "Training batches on cpu:   0%|          | 0/32 [00:00<?, ?batch/s]"
      ]
     },
     "metadata": {},
     "output_type": "display_data"
    },
    {
     "data": {
      "application/vnd.jupyter.widget-view+json": {
       "model_id": "4490cad22d5c4f6196e7182343ea96f6",
       "version_major": 2,
       "version_minor": 0
      },
      "text/plain": [
       "Training batches on cpu:   0%|          | 0/32 [00:00<?, ?batch/s]"
      ]
     },
     "metadata": {},
     "output_type": "display_data"
    },
    {
     "data": {
      "application/vnd.jupyter.widget-view+json": {
       "model_id": "b944c2467b364f5f8da13c53d507c68d",
       "version_major": 2,
       "version_minor": 0
      },
      "text/plain": [
       "Training batches on cpu:   0%|          | 0/32 [00:00<?, ?batch/s]"
      ]
     },
     "metadata": {},
     "output_type": "display_data"
    },
    {
     "data": {
      "application/vnd.jupyter.widget-view+json": {
       "model_id": "23372e523ffe480080ff8b5ac1399162",
       "version_major": 2,
       "version_minor": 0
      },
      "text/plain": [
       "Training batches on cpu:   0%|          | 0/32 [00:00<?, ?batch/s]"
      ]
     },
     "metadata": {},
     "output_type": "display_data"
    },
    {
     "data": {
      "application/vnd.jupyter.widget-view+json": {
       "model_id": "82bed4d6b4e3417a9b645a08a3bf894e",
       "version_major": 2,
       "version_minor": 0
      },
      "text/plain": [
       "Training batches on cpu:   0%|          | 0/32 [00:00<?, ?batch/s]"
      ]
     },
     "metadata": {},
     "output_type": "display_data"
    },
    {
     "data": {
      "application/vnd.jupyter.widget-view+json": {
       "model_id": "f8315ddadb8b423d86f143ecd55e362a",
       "version_major": 2,
       "version_minor": 0
      },
      "text/plain": [
       "Training batches on cpu:   0%|          | 0/32 [00:00<?, ?batch/s]"
      ]
     },
     "metadata": {},
     "output_type": "display_data"
    },
    {
     "data": {
      "application/vnd.jupyter.widget-view+json": {
       "model_id": "bd4a90f8edc142c7b2266e39434209ec",
       "version_major": 2,
       "version_minor": 0
      },
      "text/plain": [
       "Training batches on cpu:   0%|          | 0/32 [00:00<?, ?batch/s]"
      ]
     },
     "metadata": {},
     "output_type": "display_data"
    },
    {
     "data": {
      "application/vnd.jupyter.widget-view+json": {
       "model_id": "8ee72ca87aed4246a9f768013eb26f05",
       "version_major": 2,
       "version_minor": 0
      },
      "text/plain": [
       "Training batches on cpu:   0%|          | 0/32 [00:00<?, ?batch/s]"
      ]
     },
     "metadata": {},
     "output_type": "display_data"
    },
    {
     "data": {
      "application/vnd.jupyter.widget-view+json": {
       "model_id": "db62c31058024a68ae15a5a90689430f",
       "version_major": 2,
       "version_minor": 0
      },
      "text/plain": [
       "Training batches on cpu:   0%|          | 0/32 [00:00<?, ?batch/s]"
      ]
     },
     "metadata": {},
     "output_type": "display_data"
    },
    {
     "data": {
      "application/vnd.jupyter.widget-view+json": {
       "model_id": "7dd9ea62b3ce4cf29902777628a5a010",
       "version_major": 2,
       "version_minor": 0
      },
      "text/plain": [
       "Training batches on cpu:   0%|          | 0/32 [00:00<?, ?batch/s]"
      ]
     },
     "metadata": {},
     "output_type": "display_data"
    },
    {
     "data": {
      "application/vnd.jupyter.widget-view+json": {
       "model_id": "904686fd3c1f4bb6b9f51bd2390f1f62",
       "version_major": 2,
       "version_minor": 0
      },
      "text/plain": [
       "Training batches on cpu:   0%|          | 0/32 [00:00<?, ?batch/s]"
      ]
     },
     "metadata": {},
     "output_type": "display_data"
    },
    {
     "data": {
      "application/vnd.jupyter.widget-view+json": {
       "model_id": "25f5e2c3ecf9420a86fba0ddef498dbc",
       "version_major": 2,
       "version_minor": 0
      },
      "text/plain": [
       "Training batches on cpu:   0%|          | 0/32 [00:00<?, ?batch/s]"
      ]
     },
     "metadata": {},
     "output_type": "display_data"
    },
    {
     "data": {
      "application/vnd.jupyter.widget-view+json": {
       "model_id": "5b5bdca10c3745c086ceef7c07fba340",
       "version_major": 2,
       "version_minor": 0
      },
      "text/plain": [
       "Training batches on cpu:   0%|          | 0/32 [00:00<?, ?batch/s]"
      ]
     },
     "metadata": {},
     "output_type": "display_data"
    },
    {
     "data": {
      "application/vnd.jupyter.widget-view+json": {
       "model_id": "5bd11e91023c416cbe796c472dd08a8b",
       "version_major": 2,
       "version_minor": 0
      },
      "text/plain": [
       "Training batches on cpu:   0%|          | 0/32 [00:00<?, ?batch/s]"
      ]
     },
     "metadata": {},
     "output_type": "display_data"
    },
    {
     "data": {
      "application/vnd.jupyter.widget-view+json": {
       "model_id": "34d36eac161d4adfa90ef166d67875bb",
       "version_major": 2,
       "version_minor": 0
      },
      "text/plain": [
       "Training batches on cpu:   0%|          | 0/32 [00:00<?, ?batch/s]"
      ]
     },
     "metadata": {},
     "output_type": "display_data"
    },
    {
     "data": {
      "application/vnd.jupyter.widget-view+json": {
       "model_id": "7b6a2357f18747879fbad5c2ddab5318",
       "version_major": 2,
       "version_minor": 0
      },
      "text/plain": [
       "Training batches on cpu:   0%|          | 0/32 [00:00<?, ?batch/s]"
      ]
     },
     "metadata": {},
     "output_type": "display_data"
    },
    {
     "data": {
      "application/vnd.jupyter.widget-view+json": {
       "model_id": "e73f6b9ddd2f427cb79a06bb58b8dc55",
       "version_major": 2,
       "version_minor": 0
      },
      "text/plain": [
       "Training batches on cpu:   0%|          | 0/32 [00:00<?, ?batch/s]"
      ]
     },
     "metadata": {},
     "output_type": "display_data"
    },
    {
     "data": {
      "application/vnd.jupyter.widget-view+json": {
       "model_id": "a061cbab412549e38b791b2a083636b3",
       "version_major": 2,
       "version_minor": 0
      },
      "text/plain": [
       "Training batches on cpu:   0%|          | 0/32 [00:00<?, ?batch/s]"
      ]
     },
     "metadata": {},
     "output_type": "display_data"
    },
    {
     "data": {
      "application/vnd.jupyter.widget-view+json": {
       "model_id": "0e54b4e026104b7a9fb12ce42eb6f908",
       "version_major": 2,
       "version_minor": 0
      },
      "text/plain": [
       "Training batches on cpu:   0%|          | 0/32 [00:00<?, ?batch/s]"
      ]
     },
     "metadata": {},
     "output_type": "display_data"
    },
    {
     "data": {
      "application/vnd.jupyter.widget-view+json": {
       "model_id": "ccbd050b03274e12b5d5f0348aeb722d",
       "version_major": 2,
       "version_minor": 0
      },
      "text/plain": [
       "Training batches on cpu:   0%|          | 0/32 [00:00<?, ?batch/s]"
      ]
     },
     "metadata": {},
     "output_type": "display_data"
    },
    {
     "data": {
      "application/vnd.jupyter.widget-view+json": {
       "model_id": "f7ed3f75e0e1475ebf2ed94673e83cd9",
       "version_major": 2,
       "version_minor": 0
      },
      "text/plain": [
       "Training batches on cpu:   0%|          | 0/32 [00:00<?, ?batch/s]"
      ]
     },
     "metadata": {},
     "output_type": "display_data"
    },
    {
     "data": {
      "application/vnd.jupyter.widget-view+json": {
       "model_id": "e982ccf9d2314b43b11e994f1593c083",
       "version_major": 2,
       "version_minor": 0
      },
      "text/plain": [
       "Training batches on cpu:   0%|          | 0/32 [00:00<?, ?batch/s]"
      ]
     },
     "metadata": {},
     "output_type": "display_data"
    },
    {
     "data": {
      "application/vnd.jupyter.widget-view+json": {
       "model_id": "8789ca33748e4ffaba0f7c2849808e71",
       "version_major": 2,
       "version_minor": 0
      },
      "text/plain": [
       "Training batches on cpu:   0%|          | 0/32 [00:00<?, ?batch/s]"
      ]
     },
     "metadata": {},
     "output_type": "display_data"
    },
    {
     "data": {
      "application/vnd.jupyter.widget-view+json": {
       "model_id": "794f58951d154f14977e9d59acdc8b1b",
       "version_major": 2,
       "version_minor": 0
      },
      "text/plain": [
       "Training batches on cpu:   0%|          | 0/32 [00:00<?, ?batch/s]"
      ]
     },
     "metadata": {},
     "output_type": "display_data"
    },
    {
     "data": {
      "application/vnd.jupyter.widget-view+json": {
       "model_id": "f8d54f06d5da4cae9ceaed344069dbf3",
       "version_major": 2,
       "version_minor": 0
      },
      "text/plain": [
       "Training batches on cpu:   0%|          | 0/32 [00:00<?, ?batch/s]"
      ]
     },
     "metadata": {},
     "output_type": "display_data"
    },
    {
     "data": {
      "application/vnd.jupyter.widget-view+json": {
       "model_id": "1ce2a4d9fecb4e11b7972e71499bec79",
       "version_major": 2,
       "version_minor": 0
      },
      "text/plain": [
       "Training batches on cpu:   0%|          | 0/32 [00:00<?, ?batch/s]"
      ]
     },
     "metadata": {},
     "output_type": "display_data"
    },
    {
     "data": {
      "application/vnd.jupyter.widget-view+json": {
       "model_id": "c1445e6ef3fa47f9aef7323587c0013d",
       "version_major": 2,
       "version_minor": 0
      },
      "text/plain": [
       "Training batches on cpu:   0%|          | 0/32 [00:00<?, ?batch/s]"
      ]
     },
     "metadata": {},
     "output_type": "display_data"
    },
    {
     "data": {
      "application/vnd.jupyter.widget-view+json": {
       "model_id": "cc42d4a45b564451adb0a127be07b0b6",
       "version_major": 2,
       "version_minor": 0
      },
      "text/plain": [
       "Training batches on cpu:   0%|          | 0/32 [00:00<?, ?batch/s]"
      ]
     },
     "metadata": {},
     "output_type": "display_data"
    },
    {
     "data": {
      "application/vnd.jupyter.widget-view+json": {
       "model_id": "aa3550adf3fe49d6945b244abcbad605",
       "version_major": 2,
       "version_minor": 0
      },
      "text/plain": [
       "Training batches on cpu:   0%|          | 0/32 [00:00<?, ?batch/s]"
      ]
     },
     "metadata": {},
     "output_type": "display_data"
    },
    {
     "data": {
      "application/vnd.jupyter.widget-view+json": {
       "model_id": "947969c6fc2a4e4888c1434072de8f9f",
       "version_major": 2,
       "version_minor": 0
      },
      "text/plain": [
       "Training batches on cpu:   0%|          | 0/32 [00:00<?, ?batch/s]"
      ]
     },
     "metadata": {},
     "output_type": "display_data"
    },
    {
     "data": {
      "application/vnd.jupyter.widget-view+json": {
       "model_id": "78486ce28f9342dc9e7a74a7c13d45c7",
       "version_major": 2,
       "version_minor": 0
      },
      "text/plain": [
       "Training batches on cpu:   0%|          | 0/32 [00:00<?, ?batch/s]"
      ]
     },
     "metadata": {},
     "output_type": "display_data"
    },
    {
     "data": {
      "application/vnd.jupyter.widget-view+json": {
       "model_id": "abf846c19e434c298c3b8bfe90d3646c",
       "version_major": 2,
       "version_minor": 0
      },
      "text/plain": [
       "Training batches on cpu:   0%|          | 0/32 [00:00<?, ?batch/s]"
      ]
     },
     "metadata": {},
     "output_type": "display_data"
    },
    {
     "data": {
      "application/vnd.jupyter.widget-view+json": {
       "model_id": "9686f0b9776b416489e396e6cf284bd0",
       "version_major": 2,
       "version_minor": 0
      },
      "text/plain": [
       "Training batches on cpu:   0%|          | 0/32 [00:00<?, ?batch/s]"
      ]
     },
     "metadata": {},
     "output_type": "display_data"
    },
    {
     "data": {
      "application/vnd.jupyter.widget-view+json": {
       "model_id": "1d71acfb7d5d48009c0a54eea0febe5e",
       "version_major": 2,
       "version_minor": 0
      },
      "text/plain": [
       "Training batches on cpu:   0%|          | 0/32 [00:00<?, ?batch/s]"
      ]
     },
     "metadata": {},
     "output_type": "display_data"
    },
    {
     "data": {
      "application/vnd.jupyter.widget-view+json": {
       "model_id": "b8130e3d9f1b4c27a7ddfa5e3546eb68",
       "version_major": 2,
       "version_minor": 0
      },
      "text/plain": [
       "Training batches on cpu:   0%|          | 0/32 [00:00<?, ?batch/s]"
      ]
     },
     "metadata": {},
     "output_type": "display_data"
    },
    {
     "data": {
      "application/vnd.jupyter.widget-view+json": {
       "model_id": "7de5f643d76d4a9e9cad84a469911df0",
       "version_major": 2,
       "version_minor": 0
      },
      "text/plain": [
       "Training batches on cpu:   0%|          | 0/32 [00:00<?, ?batch/s]"
      ]
     },
     "metadata": {},
     "output_type": "display_data"
    },
    {
     "data": {
      "application/vnd.jupyter.widget-view+json": {
       "model_id": "d93415d05dd14c3b9b025c57d5ffb2fe",
       "version_major": 2,
       "version_minor": 0
      },
      "text/plain": [
       "Training batches on cpu:   0%|          | 0/32 [00:00<?, ?batch/s]"
      ]
     },
     "metadata": {},
     "output_type": "display_data"
    },
    {
     "data": {
      "application/vnd.jupyter.widget-view+json": {
       "model_id": "04b16930d02f42dfb4eebccbc95a86e8",
       "version_major": 2,
       "version_minor": 0
      },
      "text/plain": [
       "Training batches on cpu:   0%|          | 0/32 [00:00<?, ?batch/s]"
      ]
     },
     "metadata": {},
     "output_type": "display_data"
    },
    {
     "data": {
      "application/vnd.jupyter.widget-view+json": {
       "model_id": "a34396a07862492483736b3f34e819aa",
       "version_major": 2,
       "version_minor": 0
      },
      "text/plain": [
       "Training batches on cpu:   0%|          | 0/32 [00:00<?, ?batch/s]"
      ]
     },
     "metadata": {},
     "output_type": "display_data"
    },
    {
     "data": {
      "application/vnd.jupyter.widget-view+json": {
       "model_id": "c85f430566e542148320a60167b7c763",
       "version_major": 2,
       "version_minor": 0
      },
      "text/plain": [
       "Training batches on cpu:   0%|          | 0/32 [00:00<?, ?batch/s]"
      ]
     },
     "metadata": {},
     "output_type": "display_data"
    },
    {
     "data": {
      "application/vnd.jupyter.widget-view+json": {
       "model_id": "dfe42dc17d364c93989b341571fac6a9",
       "version_major": 2,
       "version_minor": 0
      },
      "text/plain": [
       "Training batches on cpu:   0%|          | 0/32 [00:00<?, ?batch/s]"
      ]
     },
     "metadata": {},
     "output_type": "display_data"
    },
    {
     "data": {
      "application/vnd.jupyter.widget-view+json": {
       "model_id": "71a5401e340840c4a7e7090fc5815442",
       "version_major": 2,
       "version_minor": 0
      },
      "text/plain": [
       "Training batches on cpu:   0%|          | 0/32 [00:00<?, ?batch/s]"
      ]
     },
     "metadata": {},
     "output_type": "display_data"
    },
    {
     "data": {
      "application/vnd.jupyter.widget-view+json": {
       "model_id": "6bb4fe8145dd4598987bf304bce94dd4",
       "version_major": 2,
       "version_minor": 0
      },
      "text/plain": [
       "Training batches on cpu:   0%|          | 0/32 [00:00<?, ?batch/s]"
      ]
     },
     "metadata": {},
     "output_type": "display_data"
    },
    {
     "name": "stderr",
     "output_type": "stream",
     "text": [
      "WARNING:pykeen.utils:Using automatic batch size on device.type='cpu' can cause unexplained out-of-memory crashes. Therefore, we use a conservative small batch_size=32. Performance may be improved by explicitly specifying a larger batch size.\n"
     ]
    },
    {
     "data": {
      "application/vnd.jupyter.widget-view+json": {
       "model_id": "f1c8a910e2ca481f9b2a20524fd3234c",
       "version_major": 2,
       "version_minor": 0
      },
      "text/plain": [
       "Evaluating on cpu:   0%|          | 0.00/1.01k [00:00<?, ?triple/s]"
      ]
     },
     "metadata": {},
     "output_type": "display_data"
    },
    {
     "name": "stderr",
     "output_type": "stream",
     "text": [
      "WARNING:torch_max_mem.api:Encountered tensors on device_types={'cpu'} while only ['cuda'] are considered safe for automatic memory utilization maximization. This may lead to undocumented crashes (but can be safe, too).\n",
      "INFO:pykeen.evaluation.evaluator:Evaluation took 2.63s seconds\n"
     ]
    }
   ],
   "source": [
    "result = pipeline(\n",
    "    training=training,\n",
    "    testing=testing,\n",
    "    validation=validation,\n",
    "    model=\"RotatE\",  # \"TransE\", \"DistMult\", \"ComplEx\", \"ConvE\", \"TuckER\"\n",
    "    model_kwargs={\"embedding_dim\": 100},  # 50, 100, 200, 300\n",
    "    training_kwargs={\n",
    "        \"num_epochs\": 100,  # 50, 100, 200\n",
    "        \"batch_size\": 256,  # 64, 128, 256\n",
    "    },\n",
    "    random_seed=42,\n",
    "    device=\"cpu\",\n",
    ")"
   ]
  },
  {
   "cell_type": "code",
   "execution_count": 15,
   "id": "a693bb53",
   "metadata": {},
   "outputs": [],
   "source": [
    "model = result.model"
   ]
  },
  {
   "cell_type": "code",
   "execution_count": 16,
   "id": "cf5f607f",
   "metadata": {},
   "outputs": [
    {
     "data": {
      "image/png": "[encoded data removed]",
      "text/plain": [
       "<Figure size 640x480 with 1 Axes>"
      ]
     },
     "metadata": {},
     "output_type": "display_data"
    }
   ],
   "source": [
    "result.plot_losses()\n",
    "plt.show()"
   ]
  },
  {
   "cell_type": "code",
   "execution_count": 17,
   "id": "b4d9a04b",
   "metadata": {},
   "outputs": [
    {
     "data": {
      "text/html": [
       "<div>\n",
       "<style scoped>\n",
       "    .dataframe tbody tr th:only-of-type {\n",
       "        vertical-align: middle;\n",
       "    }\n",
       "\n",
       "    .dataframe tbody tr th {\n",
       "        vertical-align: top;\n",
       "    }\n",
       "\n",
       "    .dataframe thead th {\n",
       "        text-align: right;\n",
       "    }\n",
       "</style>\n",
       "<table border=\"1\" class=\"dataframe\">\n",
       "  <thead>\n",
       "    <tr style=\"text-align: right;\">\n",
       "      <th></th>\n",
       "      <th>Side</th>\n",
       "      <th>Rank_type</th>\n",
       "      <th>Metric</th>\n",
       "      <th>Value</th>\n",
       "    </tr>\n",
       "  </thead>\n",
       "  <tbody>\n",
       "    <tr>\n",
       "      <th>5</th>\n",
       "      <td>both</td>\n",
       "      <td>realistic</td>\n",
       "      <td>arithmetic_mean_rank</td>\n",
       "      <td>321.623383</td>\n",
       "    </tr>\n",
       "    <tr>\n",
       "      <th>59</th>\n",
       "      <td>both</td>\n",
       "      <td>realistic</td>\n",
       "      <td>inverse_arithmetic_mean_rank</td>\n",
       "      <td>0.003109</td>\n",
       "    </tr>\n",
       "    <tr>\n",
       "      <th>176</th>\n",
       "      <td>both</td>\n",
       "      <td>realistic</td>\n",
       "      <td>hits_at_1</td>\n",
       "      <td>0.297725</td>\n",
       "    </tr>\n",
       "    <tr>\n",
       "      <th>185</th>\n",
       "      <td>both</td>\n",
       "      <td>realistic</td>\n",
       "      <td>hits_at_3</td>\n",
       "      <td>0.658754</td>\n",
       "    </tr>\n",
       "    <tr>\n",
       "      <th>194</th>\n",
       "      <td>both</td>\n",
       "      <td>realistic</td>\n",
       "      <td>hits_at_5</td>\n",
       "      <td>0.751236</td>\n",
       "    </tr>\n",
       "    <tr>\n",
       "      <th>203</th>\n",
       "      <td>both</td>\n",
       "      <td>realistic</td>\n",
       "      <td>hits_at_10</td>\n",
       "      <td>0.797230</td>\n",
       "    </tr>\n",
       "  </tbody>\n",
       "</table>\n",
       "</div>"
      ],
      "text/plain": [
       "     Side  Rank_type                        Metric       Value\n",
       "5    both  realistic          arithmetic_mean_rank  321.623383\n",
       "59   both  realistic  inverse_arithmetic_mean_rank    0.003109\n",
       "176  both  realistic                     hits_at_1    0.297725\n",
       "185  both  realistic                     hits_at_3    0.658754\n",
       "194  both  realistic                     hits_at_5    0.751236\n",
       "203  both  realistic                    hits_at_10    0.797230"
      ]
     },
     "execution_count": 17,
     "metadata": {},
     "output_type": "execute_result"
    }
   ],
   "source": [
    "df = result.metric_results.to_df()\n",
    "\n",
    "metrics_of_interest = [\n",
    "    \"arithmetic_mean_rank\",\n",
    "    \"inverse_arithmetic_mean_rank\",\n",
    "    \"hits_at_1\",\n",
    "    \"hits_at_3\",\n",
    "    \"hits_at_5\",\n",
    "    \"hits_at_10\",\n",
    "]\n",
    "\n",
    "filtered_df = df.query(\n",
    "    \"Metric in @metrics_of_interest and Side == 'both' and Rank_type == 'realistic'\"\n",
    ")\n",
    "filtered_df"
   ]
  },
  {
   "cell_type": "markdown",
   "id": "b01aecd6",
   "metadata": {},
   "source": [
    "### Multi-class link prediction\n",
    "\n",
    "The PyKEEN library provides several approaches for prediction. These approaches enable the identification of the top-K predicted links within the network or allow for more targeted predictions by specifying a particular head node and relationship type to evaluate potential novel connections.\n",
    "\n",
    "In this example, the objective is to predict new fraudulent transfer relationships associated with a given client. As the graph mapping utilizes internal Neo4j node IDs, it is necessary to first query the database to obtain the corresponding node ID for the suspicious client. This ID is subsequently used as input for the prediction method to generate relevant link predictions.\n"
   ]
  },
  {
   "cell_type": "markdown",
   "id": "e413b9b5",
   "metadata": {},
   "source": [
    "<div style=\"\n",
    "  background-color: #f7f2ff;\n",
    "  color: #4b007d;\n",
    "  border-left: 5px solid #8000ff;\n",
    "  padding: 14px 18px;\n",
    "  border-radius: 8px;\n",
    "  font-size: 15px;\n",
    "  width: 85%;\n",
    "  margin: 16px 0;\n",
    "  box-shadow: 0 1px 3px rgba(0,0,0,0.1);\n",
    "\">\n",
    "  📝 <strong>Quick Question:</strong>  \n",
    "  <br><br>\n",
    "  <strong>From looking at the Database, find the name of a money mule client.</strong>\n",
    "</div>\n"
   ]
  },
  {
   "cell_type": "markdown",
   "id": "67c1cd2d",
   "metadata": {},
   "source": [
    "<div style=\"\n",
    "  border: 1px dashed #8000ff;\n",
    "  background-color: #fdfbff;\n",
    "  padding: 14px 18px;\n",
    "  border-radius: 6px;\n",
    "  font-family: monospace;\n",
    "  width: 85%;\n",
    "  color: #333;\n",
    "\">\n",
    "<strong>Write your answer below:</strong>\n",
    "<code></code>\n",
    "</div>\n"
   ]
  },
  {
   "cell_type": "code",
   "execution_count": 18,
   "id": "cad92b8f",
   "metadata": {},
   "outputs": [],
   "source": [
    "# name = ..."
   ]
  },
  {
   "cell_type": "markdown",
   "id": "cc9e1861",
   "metadata": {},
   "source": [
    "**Possible Answer:**\n"
   ]
  },
  {
   "cell_type": "code",
   "execution_count": 19,
   "id": "c577b316",
   "metadata": {},
   "outputs": [],
   "source": [
    "name = \"Gabriel Jenkins\""
   ]
  },
  {
   "cell_type": "code",
   "execution_count": 20,
   "id": "b052939f",
   "metadata": {},
   "outputs": [],
   "source": [
    "mule_id = run_query(\n",
    "    \"\"\"\n",
    "    MATCH (c:Client)\n",
    "    WHERE c.name = $name\n",
    "    RETURN elementId(c) as id\n",
    "    \"\"\",\n",
    "    {\"name\": name},\n",
    ")[\"id\"][0]"
   ]
  },
  {
   "cell_type": "code",
   "execution_count": 21,
   "id": "3f870831",
   "metadata": {},
   "outputs": [],
   "source": [
    "predictions_df = (\n",
    "    predict.predict_target(\n",
    "        result.model,\n",
    "        head=mule_id,\n",
    "        relation=\"TRANSFER_TO\",\n",
    "        triples_factory=result.training,\n",
    "    )\n",
    "    .add_membership_columns(training=training, testing=testing, validation=validation)\n",
    "    .df.sort_values(by=\"score\", ascending=False)\n",
    ")"
   ]
  },
  {
   "cell_type": "code",
   "execution_count": 22,
   "id": "8b26bb0f",
   "metadata": {},
   "outputs": [
    {
     "data": {
      "text/html": [
       "<div>\n",
       "<style scoped>\n",
       "    .dataframe tbody tr th:only-of-type {\n",
       "        vertical-align: middle;\n",
       "    }\n",
       "\n",
       "    .dataframe tbody tr th {\n",
       "        vertical-align: top;\n",
       "    }\n",
       "\n",
       "    .dataframe thead th {\n",
       "        text-align: right;\n",
       "    }\n",
       "</style>\n",
       "<table border=\"1\" class=\"dataframe\">\n",
       "  <thead>\n",
       "    <tr style=\"text-align: right;\">\n",
       "      <th></th>\n",
       "      <th>tail_id</th>\n",
       "      <th>score</th>\n",
       "      <th>tail_label</th>\n",
       "      <th>in_training</th>\n",
       "      <th>in_testing</th>\n",
       "      <th>in_validation</th>\n",
       "    </tr>\n",
       "  </thead>\n",
       "  <tbody>\n",
       "    <tr>\n",
       "      <th>1200</th>\n",
       "      <td>1200</td>\n",
       "      <td>-2.075722</td>\n",
       "      <td>4:a86637d1-a510-4629-9a21-54d6f5d853c7:316684</td>\n",
       "      <td>False</td>\n",
       "      <td>False</td>\n",
       "      <td>False</td>\n",
       "    </tr>\n",
       "    <tr>\n",
       "      <th>1166</th>\n",
       "      <td>1166</td>\n",
       "      <td>-2.104403</td>\n",
       "      <td>4:a86637d1-a510-4629-9a21-54d6f5d853c7:310877</td>\n",
       "      <td>False</td>\n",
       "      <td>False</td>\n",
       "      <td>False</td>\n",
       "    </tr>\n",
       "    <tr>\n",
       "      <th>1266</th>\n",
       "      <td>1266</td>\n",
       "      <td>-2.126689</td>\n",
       "      <td>4:a86637d1-a510-4629-9a21-54d6f5d853c7:320101</td>\n",
       "      <td>False</td>\n",
       "      <td>False</td>\n",
       "      <td>False</td>\n",
       "    </tr>\n",
       "    <tr>\n",
       "      <th>1108</th>\n",
       "      <td>1108</td>\n",
       "      <td>-2.154636</td>\n",
       "      <td>4:a86637d1-a510-4629-9a21-54d6f5d853c7:295187</td>\n",
       "      <td>False</td>\n",
       "      <td>False</td>\n",
       "      <td>False</td>\n",
       "    </tr>\n",
       "    <tr>\n",
       "      <th>1344</th>\n",
       "      <td>1344</td>\n",
       "      <td>-2.163152</td>\n",
       "      <td>4:a86637d1-a510-4629-9a21-54d6f5d853c7:324524</td>\n",
       "      <td>False</td>\n",
       "      <td>False</td>\n",
       "      <td>False</td>\n",
       "    </tr>\n",
       "  </tbody>\n",
       "</table>\n",
       "</div>"
      ],
      "text/plain": [
       "      tail_id     score                                     tail_label  \\\n",
       "1200     1200 -2.075722  4:a86637d1-a510-4629-9a21-54d6f5d853c7:316684   \n",
       "1166     1166 -2.104403  4:a86637d1-a510-4629-9a21-54d6f5d853c7:310877   \n",
       "1266     1266 -2.126689  4:a86637d1-a510-4629-9a21-54d6f5d853c7:320101   \n",
       "1108     1108 -2.154636  4:a86637d1-a510-4629-9a21-54d6f5d853c7:295187   \n",
       "1344     1344 -2.163152  4:a86637d1-a510-4629-9a21-54d6f5d853c7:324524   \n",
       "\n",
       "      in_training  in_testing  in_validation  \n",
       "1200        False       False          False  \n",
       "1166        False       False          False  \n",
       "1266        False       False          False  \n",
       "1108        False       False          False  \n",
       "1344        False       False          False  "
      ]
     },
     "execution_count": 22,
     "metadata": {},
     "output_type": "execute_result"
    }
   ],
   "source": [
    "predictions_df.head(5)"
   ]
  },
  {
   "cell_type": "markdown",
   "id": "7ba9aae9",
   "metadata": {},
   "source": [
    "<div style=\"\n",
    "  background-color: #f7f2ff;\n",
    "  color: #4b007d;\n",
    "  border-left: 5px solid #8000ff;\n",
    "  padding: 14px 18px;\n",
    "  border-radius: 8px;\n",
    "  font-size: 15px;\n",
    "  width: 85%;\n",
    "  margin: 16px 0;\n",
    "  box-shadow: 0 1px 3px rgba(0,0,0,0.1);\n",
    "\">\n",
    "  📝 <strong>Quick Question:</strong>  \n",
    "  <br><br>\n",
    "  <strong>Get the names of the top 5 predictions of the model.</strong>\n",
    "</div>\n"
   ]
  },
  {
   "cell_type": "markdown",
   "id": "402b69ba",
   "metadata": {},
   "source": [
    "<div style=\"\n",
    "  border: 1px dashed #8000ff;\n",
    "  background-color: #fdfbff;\n",
    "  padding: 14px 18px;\n",
    "  border-radius: 6px;\n",
    "  font-family: monospace;\n",
    "  width: 85%;\n",
    "  color: #333;\n",
    "\">\n",
    "<strong>Write your answer below:</strong>\n",
    "<code></code>\n",
    "</div>\n"
   ]
  },
  {
   "cell_type": "code",
   "execution_count": 23,
   "id": "73595f5d",
   "metadata": {},
   "outputs": [],
   "source": [
    "# names = []\n",
    "# index = 0\n",
    "# while len(names) < 5 and index < 20:\n",
    "#     fraudulent_id = predictions_df.iloc[index][\"tail_label\"]\n",
    "#     name = run_query(\n",
    "#         \"\"\"\n",
    "#         MATCH (c)\n",
    "#         WHERE ...\n",
    "#         RETURN ... AS name\n",
    "#         \"\"\",\n",
    "#         {...},\n",
    "#     )[\"name\"][0]\n",
    "\n",
    "# if name:\n",
    "#     names.append(name)\n",
    "#     print(f\"{index}: {name}\")\n",
    "\n",
    "#     index += 1"
   ]
  },
  {
   "cell_type": "code",
   "execution_count": 24,
   "id": "c30c4763",
   "metadata": {},
   "outputs": [
    {
     "name": "stdout",
     "output_type": "stream",
     "text": [
      "0: Benjamin Morton\n",
      "1: Allison Alvarez\n",
      "2: Bailey Hoffman\n",
      "3: Ryan Patel\n",
      "4: Alexa Castillo\n"
     ]
    }
   ],
   "source": [
    "names = []\n",
    "index = 0\n",
    "while len(names) < 5 and index < 20:\n",
    "    fraudulent_id = predictions_df.iloc[index][\"tail_label\"]\n",
    "    name = run_query(\n",
    "        \"\"\"\n",
    "        MATCH (c)\n",
    "        WHERE elementId(c) = $id\n",
    "        RETURN c.name AS name\n",
    "        \"\"\",\n",
    "        {\"id\": fraudulent_id},\n",
    "    )[\"name\"][0]\n",
    "\n",
    "    if name:\n",
    "        names.append(name)\n",
    "        print(f\"{index}: {name}\")\n",
    "\n",
    "    index += 1"
   ]
  },
  {
   "cell_type": "markdown",
   "id": "7b803142",
   "metadata": {},
   "source": [
    "As you may have noticed, some of the predictions are not Clients, for which we know to be impossible, given the relationship we are trying to make inferences on `:TRANSFER_TO`. With that in mind, let's filter out the prediction that are not Clients:\n"
   ]
  },
  {
   "cell_type": "code",
   "execution_count": 25,
   "id": "e0784878",
   "metadata": {},
   "outputs": [],
   "source": [
    "client_df = run_query(\n",
    "    \"\"\"\n",
    "    MATCH (n:Client)\n",
    "    RETURN elementId(n) as nodeId, n.name AS name\n",
    "    \"\"\"\n",
    ")"
   ]
  },
  {
   "cell_type": "code",
   "execution_count": 26,
   "id": "39d23136",
   "metadata": {},
   "outputs": [
    {
     "data": {
      "text/html": [
       "<div>\n",
       "<style scoped>\n",
       "    .dataframe tbody tr th:only-of-type {\n",
       "        vertical-align: middle;\n",
       "    }\n",
       "\n",
       "    .dataframe tbody tr th {\n",
       "        vertical-align: top;\n",
       "    }\n",
       "\n",
       "    .dataframe thead th {\n",
       "        text-align: right;\n",
       "    }\n",
       "</style>\n",
       "<table border=\"1\" class=\"dataframe\">\n",
       "  <thead>\n",
       "    <tr style=\"text-align: right;\">\n",
       "      <th></th>\n",
       "      <th>nodeId</th>\n",
       "      <th>name</th>\n",
       "    </tr>\n",
       "  </thead>\n",
       "  <tbody>\n",
       "    <tr>\n",
       "      <th>0</th>\n",
       "      <td>4:a86637d1-a510-4629-9a21-54d6f5d853c7:0</td>\n",
       "      <td>Bentley Peck</td>\n",
       "    </tr>\n",
       "    <tr>\n",
       "      <th>1</th>\n",
       "      <td>4:a86637d1-a510-4629-9a21-54d6f5d853c7:5</td>\n",
       "      <td>Dominic Boyer</td>\n",
       "    </tr>\n",
       "    <tr>\n",
       "      <th>2</th>\n",
       "      <td>4:a86637d1-a510-4629-9a21-54d6f5d853c7:8</td>\n",
       "      <td>Faith Dotson</td>\n",
       "    </tr>\n",
       "    <tr>\n",
       "      <th>3</th>\n",
       "      <td>4:a86637d1-a510-4629-9a21-54d6f5d853c7:11</td>\n",
       "      <td>Landon Adams</td>\n",
       "    </tr>\n",
       "    <tr>\n",
       "      <th>4</th>\n",
       "      <td>4:a86637d1-a510-4629-9a21-54d6f5d853c7:14</td>\n",
       "      <td>Lauren Mack</td>\n",
       "    </tr>\n",
       "  </tbody>\n",
       "</table>\n",
       "</div>"
      ],
      "text/plain": [
       "                                      nodeId           name\n",
       "0   4:a86637d1-a510-4629-9a21-54d6f5d853c7:0   Bentley Peck\n",
       "1   4:a86637d1-a510-4629-9a21-54d6f5d853c7:5  Dominic Boyer\n",
       "2   4:a86637d1-a510-4629-9a21-54d6f5d853c7:8   Faith Dotson\n",
       "3  4:a86637d1-a510-4629-9a21-54d6f5d853c7:11   Landon Adams\n",
       "4  4:a86637d1-a510-4629-9a21-54d6f5d853c7:14    Lauren Mack"
      ]
     },
     "execution_count": 26,
     "metadata": {},
     "output_type": "execute_result"
    }
   ],
   "source": [
    "client_df.head(5)"
   ]
  },
  {
   "cell_type": "code",
   "execution_count": 27,
   "id": "46ceff19",
   "metadata": {},
   "outputs": [],
   "source": [
    "merged_df = predictions_df.merge(\n",
    "    client_df, left_on=\"tail_label\", right_on=\"nodeId\", how=\"left\"\n",
    ")\n",
    "filtered_df = merged_df.dropna(subset=[\"name\"])"
   ]
  },
  {
   "cell_type": "markdown",
   "id": "b94d0907",
   "metadata": {},
   "source": [
    "### Store predictions back to Neo4j\n",
    "\n",
    "For easier evaluation of the results, we will store the top five predictions back to Neo4j.\n"
   ]
  },
  {
   "cell_type": "code",
   "execution_count": 28,
   "id": "884f5126",
   "metadata": {},
   "outputs": [
    {
     "data": {
      "text/html": [
       "<div>\n",
       "<style scoped>\n",
       "    .dataframe tbody tr th:only-of-type {\n",
       "        vertical-align: middle;\n",
       "    }\n",
       "\n",
       "    .dataframe tbody tr th {\n",
       "        vertical-align: top;\n",
       "    }\n",
       "\n",
       "    .dataframe thead th {\n",
       "        text-align: right;\n",
       "    }\n",
       "</style>\n",
       "<table border=\"1\" class=\"dataframe\">\n",
       "  <thead>\n",
       "    <tr style=\"text-align: right;\">\n",
       "      <th></th>\n",
       "    </tr>\n",
       "  </thead>\n",
       "  <tbody>\n",
       "  </tbody>\n",
       "</table>\n",
       "</div>"
      ],
      "text/plain": [
       "Empty DataFrame\n",
       "Columns: []\n",
       "Index: []"
      ]
     },
     "execution_count": 28,
     "metadata": {},
     "output_type": "execute_result"
    }
   ],
   "source": [
    "# Clear previous results if any\n",
    "run_query(\n",
    "    \"\"\"\n",
    "    MATCH (n)-[r:PREDICTED_TRANSFER_TO]->(c)\n",
    "    WHERE elementId(n) = $id\n",
    "    DELETE r\n",
    "    \"\"\",\n",
    "    {\"id\": mule_id},\n",
    ")"
   ]
  },
  {
   "cell_type": "code",
   "execution_count": 29,
   "id": "cb6e1fc5",
   "metadata": {},
   "outputs": [
    {
     "data": {
      "text/html": [
       "<div>\n",
       "<style scoped>\n",
       "    .dataframe tbody tr th:only-of-type {\n",
       "        vertical-align: middle;\n",
       "    }\n",
       "\n",
       "    .dataframe tbody tr th {\n",
       "        vertical-align: top;\n",
       "    }\n",
       "\n",
       "    .dataframe thead th {\n",
       "        text-align: right;\n",
       "    }\n",
       "</style>\n",
       "<table border=\"1\" class=\"dataframe\">\n",
       "  <thead>\n",
       "    <tr style=\"text-align: right;\">\n",
       "      <th></th>\n",
       "    </tr>\n",
       "  </thead>\n",
       "  <tbody>\n",
       "  </tbody>\n",
       "</table>\n",
       "</div>"
      ],
      "text/plain": [
       "Empty DataFrame\n",
       "Columns: []\n",
       "Index: []"
      ]
     },
     "execution_count": 29,
     "metadata": {},
     "output_type": "execute_result"
    }
   ],
   "source": [
    "candidate_nodes = (\n",
    "    filtered_df[filtered_df[\"in_training\"] == False].head(10)[\"tail_label\"].to_list()\n",
    ")\n",
    "\n",
    "run_query(\n",
    "    \"\"\"\n",
    "    MATCH (n)\n",
    "    WHERE elementId(n) = $id\n",
    "    UNWIND $candidates as ca\n",
    "    MATCH (c)\n",
    "    WHERE elementId(c) = ca\n",
    "    MERGE (n)-[:PREDICTED_TRANSFER_TO]->(c);\n",
    "    \"\"\",\n",
    "    {\"id\": mule_id, \"candidates\": candidate_nodes},\n",
    ")"
   ]
  },
  {
   "cell_type": "markdown",
   "id": "9a4a2e96",
   "metadata": {},
   "source": [
    "<div style=\"\n",
    "  background-color: #f7f2ff;\n",
    "  color: #4b007d;\n",
    "  border-left: 5px solid #8000ff;\n",
    "  padding: 14px 18px;\n",
    "  border-radius: 8px;\n",
    "  font-size: 15px;\n",
    "  width: 85%;\n",
    "  margin: 16px 0;\n",
    "  box-shadow: 0 1px 3px rgba(0,0,0,0.1);\n",
    "\">\n",
    "  📝 <strong>Quick Question:</strong>  \n",
    "  <br><br>\n",
    "  <strong>Query the Database to check your results.</strong>\n",
    "</div>\n"
   ]
  },
  {
   "cell_type": "markdown",
   "id": "71e6eb0c",
   "metadata": {},
   "source": [
    "<div style=\"\n",
    "  border: 1px dashed #8000ff;\n",
    "  background-color: #fdfbff;\n",
    "  padding: 14px 18px;\n",
    "  border-radius: 6px;\n",
    "  font-family: monospace;\n",
    "  width: 85%;\n",
    "  color: #333;\n",
    "\">\n",
    "<strong>Write your answer below:</strong>\n",
    "<code></code>\n",
    "</div>\n"
   ]
  },
  {
   "cell_type": "markdown",
   "id": "1bee3736",
   "metadata": {},
   "source": [
    "**Answer:**\n",
    "\n",
    "```sql\n",
    "MATCH (s)-[:PREDICTED_TRANSFER_TO]->(t)\n",
    "RETURN s, t\n",
    "```\n"
   ]
  },
  {
   "cell_type": "markdown",
   "id": "e0d7a65c",
   "metadata": {},
   "source": [
    "### Embeddings Visualization\n"
   ]
  },
  {
   "cell_type": "markdown",
   "id": "c998ac84",
   "metadata": {},
   "source": [
    "<div style=\"\n",
    "  background-color: #fffbe6;\n",
    "  color: #8a6d3b;\n",
    "  border-left: 5px solid #ffcc00;\n",
    "  padding: 14px 18px;\n",
    "  border-radius: 8px;\n",
    "  font-size: 15px;\n",
    "  width: 85%;\n",
    "  margin: 16px 0;\n",
    "  box-shadow: 0 1px 3px rgba(0,0,0,0.1);\n",
    "\">\n",
    "  <strong>⚠️ Note:</strong> PCA is not compatible with complex numbers. Since the embeddings from <code>RotatE</code> are complex-valued, we apply PCA only to their <strong>real part</strong> for visualization purposes.  <br><br>\n",
    "  This is a simplification made to support interpretation during this workshop. Be aware that using only the real component may discard important information encoded in the imaginary part — especially in models like RotatE that rely on complex arithmetic.\n",
    "</div>\n"
   ]
  },
  {
   "cell_type": "code",
   "execution_count": 30,
   "id": "1fdbc046",
   "metadata": {},
   "outputs": [
    {
     "data": {
      "image/png": "[encoded data removed]",
      "text/plain": [
       "<Figure size 800x800 with 1 Axes>"
      ]
     },
     "metadata": {},
     "output_type": "display_data"
    }
   ],
   "source": [
    "# --- PCA setup ---\n",
    "pca = PCA(n_components=2)\n",
    "entity_emb = model.entity_representations[0](indices=None).real.detach().numpy()\n",
    "entity_proj = pca.fit_transform(entity_emb)\n",
    "\n",
    "relation_emb = model.relation_representations[0](indices=None).real.detach().numpy()\n",
    "relation_proj = pca.transform(relation_emb)\n",
    "\n",
    "# --- Prepare client points ---\n",
    "# Map client nodeIds to internal indices\n",
    "client_indices = [\n",
    "    tf.entity_to_id[node_id]\n",
    "    for node_id in client_df[\"nodeId\"]\n",
    "    if node_id in tf.entity_to_id\n",
    "]\n",
    "\n",
    "# Get 2D projected coordinates for those clients\n",
    "client_proj = entity_proj[client_indices]\n",
    "\n",
    "# --- Plot setup ---\n",
    "plt.figure(figsize=(8, 8))\n",
    "\n",
    "max_dots = 100\n",
    "\n",
    "# Plot all entities in blue\n",
    "plt.scatter(\n",
    "    entity_proj[:max_dots, 0],\n",
    "    entity_proj[:max_dots, 1],\n",
    "    alpha=0.3,\n",
    "    s=10,\n",
    "    label=\"Entities\",\n",
    "    color=\"tab:blue\",\n",
    ")\n",
    "\n",
    "# Plot client entities in orange\n",
    "plt.scatter(\n",
    "    client_proj[:max_dots, 0],\n",
    "    client_proj[:max_dots, 1],\n",
    "    alpha=0.3,\n",
    "    s=30,\n",
    "    label=\"Clients\",\n",
    "    color=\"orange\",\n",
    "    edgecolor=\"black\",\n",
    "    linewidth=0.5,\n",
    ")\n",
    "\n",
    "# Plot relation vectors as arrows from origin\n",
    "for i in tf.relation_id_to_label:\n",
    "    x, y = relation_proj[i]\n",
    "    plt.arrow(0, 0, x, y, color=\"tab:red\", width=0.003, head_width=0.05, alpha=0.8)\n",
    "    plt.text(\n",
    "        x * 1.2,\n",
    "        y * 1.2,\n",
    "        tf.relation_id_to_label[i],\n",
    "        color=\"tab:red\",\n",
    "        fontsize=10,\n",
    "        ha=\"center\",\n",
    "        va=\"center\",\n",
    "    )\n",
    "\n",
    "# --- Final touches ---\n",
    "plt.axhline(0, color=\"gray\", linestyle=\"--\", linewidth=0.5)\n",
    "plt.axvline(0, color=\"gray\", linestyle=\"--\", linewidth=0.5)\n",
    "plt.xlim(-1.3, 1.3)\n",
    "plt.ylim(-1.3, 1.3)\n",
    "plt.title(\"PCA Projection of Entity and Relation Embeddings\", fontsize=14)\n",
    "plt.xlabel(\"PCA Component 1\")\n",
    "plt.ylabel(\"PCA Component 2\")\n",
    "plt.grid(True)\n",
    "plt.legend()\n",
    "plt.tight_layout()\n",
    "plt.show()"
   ]
  },
  {
   "cell_type": "markdown",
   "id": "6f04320d",
   "metadata": {},
   "source": [
    "# 3. Graph Neural Networks\n"
   ]
  },
  {
   "cell_type": "markdown",
   "id": "90ad6866",
   "metadata": {},
   "source": [
    "For this section, let's work on a different example. Create yet another Project, but this time let's use the Blank Sandbox - Graph Data Science template.\n",
    "\n",
    "<div style=\"text-align: center; margin: 16px 0;\">\n",
    "   <img src=\"https://github.com/wliaw/2025-AAI-Summit-GraphDB/blob/main/imgs/Blank%20Sandbox.png?raw=true\" alt=\"Neo4j Blank Sandbox - Graph Data Science\" style=\"max-width: 600px; width: 100%; border-radius: 8px; box-shadow: 0 4px 12px rgba(0,0,0,0.15);\">\n",
    "   <p style=\"color: #555; font-size: 0.9em; margin-top: 8px;\"><em>Neo4j Sandbox – Blank Sandbox Project Setup</em></p>\n",
    " </div>\n"
   ]
  },
  {
   "cell_type": "markdown",
   "id": "31dfed20",
   "metadata": {},
   "source": [
    "<div style=\"\n",
    "  background-color: #fffbe6;\n",
    "  color: #8a6d3b;\n",
    "  border-left: 5px solid #ffcc00;\n",
    "  padding: 14px 18px;\n",
    "  border-radius: 8px;\n",
    "  font-size: 15px;\n",
    "  width: 85%;\n",
    "  margin: 16px 0;\n",
    "  box-shadow: 0 1px 3px rgba(0,0,0,0.1);\n",
    "\">\n",
    "  <strong>⚠️ Heads up:</strong> Don’t accidentally pick <em>Blank Sandbox</em> — it's easy to confuse with the correct option.<br><br>\n",
    "  Make sure you choose <strong>Blank Sandbox – Graph Data Science</strong> for this exercise.\n",
    "</div>\n"
   ]
  },
  {
   "cell_type": "code",
   "execution_count": null,
   "id": "77e59427",
   "metadata": {},
   "outputs": [],
   "source": [
    "import os\n",
    "import zipfile\n",
    "from collections import defaultdict\n",
    "from urllib.request import urlretrieve\n",
    "\n",
    "import pandas as pd\n",
    "import torch\n",
    "import torch.optim as optim\n",
    "from graphdatascience import GraphDataScience\n",
    "from neo4j import basic_auth\n",
    "from torch_geometric.data import Data\n",
    "from torch_geometric.nn import TransE\n",
    "from tqdm.notebook import tqdm"
   ]
  },
  {
   "cell_type": "code",
   "execution_count": null,
   "id": "3799f036",
   "metadata": {},
   "outputs": [],
   "source": [
    "host = \"bolt://44.222.222.70:7687\"\n",
    "user = \"neo4j\"\n",
    "password = \"segment-reservists-weapon\"\n",
    "gds = GraphDataScience(host, auth=basic_auth(user, password))"
   ]
  },
  {
   "cell_type": "markdown",
   "id": "e13d0313",
   "metadata": {},
   "source": [
    "We will use **FB15k-237**, a filtered version of the FB15k dataset proposed by [(Bordes et al., 2013)](https://dl.acm.org/doi/10.5555/2999792.2999923), designed to remove highly redundant relations, following the approach of [(Toutanova and Chen, 2015)](https://aclanthology.org/W15-4007/).\n"
   ]
  },
  {
   "cell_type": "code",
   "execution_count": null,
   "id": "9fa4d847",
   "metadata": {},
   "outputs": [],
   "source": [
    "url = \"https://download.microsoft.com/download/8/7/0/8700516A-AB3D-4850-B4BB-805C515AECE1/FB15K-237.2.zip\"\n",
    "raw_dir = \"./data_from_zip\"\n",
    "os.makedirs(raw_dir, exist_ok=True)\n",
    "\n",
    "zip_path = os.path.join(raw_dir, os.path.basename(url))\n",
    "data_dir = os.path.join(raw_dir, \"Release\")\n",
    "raw_file_names = [\"train.txt\", \"valid.txt\", \"test.txt\"]\n",
    "\n",
    "# Download if missing\n",
    "if not os.path.exists(zip_path):\n",
    "    print(\"Downloading dataset...\")\n",
    "    urlretrieve(url, zip_path)\n",
    "    print(\"Download complete.\")\n",
    "else:\n",
    "    print(\"ZIP file already exists. Skipping download.\")\n",
    "\n",
    "# Extract if not already extracted\n",
    "if not all(os.path.exists(os.path.join(data_dir, fname)) for fname in raw_file_names):\n",
    "    print(f\"Extracting {zip_path} to {raw_dir}...\")\n",
    "    with zipfile.ZipFile(zip_path, \"r\") as zip_ref:\n",
    "        for filename in raw_file_names:\n",
    "            zip_ref.extract(f\"Release/{filename}\", path=raw_dir)\n",
    "    print(\"Extraction complete.\")\n",
    "else:\n",
    "    print(\"Files already extracted. Skipping extraction.\")"
   ]
  },
  {
   "cell_type": "code",
   "execution_count": null,
   "id": "e825738f",
   "metadata": {},
   "outputs": [],
   "source": [
    "gds.run_cypher(\"CREATE CONSTRAINT entity_id FOR (e:Entity) REQUIRE e.id IS UNIQUE\")"
   ]
  },
  {
   "cell_type": "code",
   "execution_count": null,
   "id": "6e2e5f0a",
   "metadata": {},
   "outputs": [],
   "source": [
    "# Constants\n",
    "rel_types = {\n",
    "    \"train.txt\": \"TRAIN\",\n",
    "    \"valid.txt\": \"VALID\",\n",
    "    \"test.txt\": \"TEST\",\n",
    "}\n",
    "\n",
    "# Global mappings\n",
    "rel_id_to_text_dict = {}\n",
    "rel_type_dict = defaultdict(list)\n",
    "rel_dict = {}\n",
    "\n",
    "\n",
    "def process():\n",
    "    \"\"\"Processes raw triples into Neo4j nodes and relationships via GDS Cypher.\"\"\"\n",
    "    node_dict = {}\n",
    "    for file_name in raw_file_names:\n",
    "        file_path = os.path.join(data_dir, file_name)\n",
    "        rel_type = rel_types[file_name]\n",
    "\n",
    "        with open(file_path, \"r\") as f:\n",
    "            lines = [line.strip().split(\"\\t\") for line in f if line.strip()]\n",
    "\n",
    "        cypher_data = []\n",
    "        for src, rel, dst in lines:\n",
    "            # Create unique node IDs\n",
    "            src_id = node_dict.setdefault(src, len(node_dict))\n",
    "            dst_id = node_dict.setdefault(dst, len(node_dict))\n",
    "\n",
    "            # Create unique relation ID\n",
    "            rel_id = rel_dict.setdefault(rel, len(rel_dict))\n",
    "            rel_id_to_text_dict[rel_id] = rel\n",
    "\n",
    "            # Store for generic REL_ID cypher\n",
    "            rel_type_dict[rel_id].append(\n",
    "                {\n",
    "                    \"source\": src_id,\n",
    "                    \"target\": dst_id,\n",
    "                }\n",
    "            )\n",
    "\n",
    "            # Store for TRAIN/VALID/TEST cypher\n",
    "            cypher_data.append(\n",
    "                {\n",
    "                    \"source\": src_id,\n",
    "                    \"source_text\": src,\n",
    "                    \"target\": dst_id,\n",
    "                    \"target_text\": dst,\n",
    "                    \"rel_id\": rel_id,\n",
    "                }\n",
    "            )\n",
    "\n",
    "        print(f\"Writing {len(cypher_data)} entities of {rel_type}\")\n",
    "        gds.run_cypher(\n",
    "            f\"\"\"\n",
    "            UNWIND $ll as l\n",
    "            MERGE (n:Entity {{id: l.source, text: l.source_text}})\n",
    "            MERGE (m:Entity {{id: l.target, text: l.target_text}})\n",
    "            MERGE (n)-[:{rel_type} {{rel_id: l.rel_id}}]->(m)\n",
    "            \"\"\",\n",
    "            params={\"ll\": cypher_data},\n",
    "        )\n",
    "\n",
    "    # Additional relation-type-specific edges (e.g. REL_0, REL_1, ...)\n",
    "    print(\"Writing relationships as different relationship types\")\n",
    "    for rel_id, edges in tqdm(rel_type_dict.items()):\n",
    "        rel_label = f\"REL_{rel_id}\"\n",
    "        gds.run_cypher(\n",
    "            f\"\"\"\n",
    "            UNWIND $ll AS l\n",
    "            MATCH (n:Entity {{id: l.source}}), (m:Entity {{id: l.target}})\n",
    "            MERGE (n)-[:{rel_label} {{rel_id: $rel_id, text: $text}}]->(m)\n",
    "            \"\"\",\n",
    "            params={\n",
    "                \"ll\": edges,\n",
    "                \"rel_id\": rel_id,\n",
    "                \"text\": rel_id_to_text_dict[rel_id],\n",
    "            },\n",
    "        )"
   ]
  },
  {
   "cell_type": "code",
   "execution_count": null,
   "id": "e3f27580",
   "metadata": {},
   "outputs": [],
   "source": [
    "process()"
   ]
  },
  {
   "cell_type": "markdown",
   "id": "5d840dea",
   "metadata": {},
   "source": [
    "Project all data in graph to get mapping between `id` and internal `nodeId` field from database.\n"
   ]
  },
  {
   "cell_type": "code",
   "execution_count": null,
   "id": "e5d10686",
   "metadata": {},
   "outputs": [],
   "source": [
    "node_projection = {\"Entity\": {\"properties\": \"id\"}}\n",
    "relationship_projection = [\n",
    "    {\"TRAIN\": {\"orientation\": \"NATURAL\", \"properties\": \"rel_id\"}},\n",
    "    {\"TEST\": {\"orientation\": \"NATURAL\", \"properties\": \"rel_id\"}},\n",
    "    {\"VALID\": {\"orientation\": \"NATURAL\", \"properties\": \"rel_id\"}},\n",
    "]\n",
    "\n",
    "ttv_G, result = gds.graph.project(\n",
    "    \"fb15k-graph-ttv\", node_projection, relationship_projection\n",
    ")"
   ]
  },
  {
   "cell_type": "code",
   "execution_count": null,
   "id": "47a41048",
   "metadata": {},
   "outputs": [],
   "source": [
    "node_properties = gds.graph.nodeProperties.stream(\n",
    "    ttv_G, [\"id\"], separate_property_columns=True\n",
    ")\n",
    "\n",
    "nodeId_to_id = dict(zip(node_properties.nodeId, node_properties.id))\n",
    "id_to_nodeId = dict(zip(node_properties.id, node_properties.nodeId))"
   ]
  },
  {
   "cell_type": "code",
   "execution_count": null,
   "id": "36e1c3f9",
   "metadata": {},
   "outputs": [],
   "source": [
    "def create_data_from_graph(relationship_type):\n",
    "    rels_tmp = gds.graph.relationshipProperty.stream(ttv_G, \"rel_id\", relationship_type)\n",
    "    topology = [\n",
    "        rels_tmp.sourceNodeId.map(lambda x: nodeId_to_id[x]),\n",
    "        rels_tmp.targetNodeId.map(lambda x: nodeId_to_id[x]),\n",
    "    ]\n",
    "    edge_index = torch.tensor(topology, dtype=torch.long)\n",
    "    edge_type = torch.tensor(rels_tmp.propertyValue.astype(int), dtype=torch.long)\n",
    "    data = Data(edge_index=edge_index, edge_type=edge_type)\n",
    "    data.num_nodes = len(nodeId_to_id)\n",
    "    display(data)\n",
    "    return data"
   ]
  },
  {
   "cell_type": "code",
   "execution_count": null,
   "id": "898951b0",
   "metadata": {},
   "outputs": [],
   "source": [
    "train_tensor_data = create_data_from_graph(\"TRAIN\")\n",
    "test_tensor_data = create_data_from_graph(\"TEST\")\n",
    "val_tensor_data = create_data_from_graph(\"VALID\")"
   ]
  },
  {
   "cell_type": "code",
   "execution_count": null,
   "id": "fd1f4a64",
   "metadata": {},
   "outputs": [],
   "source": [
    "gds.graph.drop(ttv_G)"
   ]
  },
  {
   "cell_type": "code",
   "execution_count": null,
   "id": "27a88838",
   "metadata": {},
   "outputs": [],
   "source": [
    "def train_model_with_pyg(\n",
    "    train_tensor_data, test_tensor_data, val_tensor_data, epoch_count=5\n",
    "):\n",
    "    device = \"mps\" if torch.mps.is_available() else \"cpu\"\n",
    "    if device == \"mps\":\n",
    "        print(\"Using Apple Silicon GPU\")\n",
    "    else:\n",
    "        print(\"Using CPU\")\n",
    "\n",
    "    train_tensor_data = train_tensor_data.to(device)\n",
    "    test_tensor_data = test_tensor_data.to(device)\n",
    "    val_tensor_data = val_tensor_data.to(device)\n",
    "\n",
    "    model = TransE(\n",
    "        num_nodes=train_tensor_data.num_nodes,\n",
    "        num_relations=train_tensor_data.num_edge_types,\n",
    "        hidden_channels=50,\n",
    "    ).to(device)\n",
    "\n",
    "    loader = model.loader(\n",
    "        head_index=train_tensor_data.edge_index[0],\n",
    "        rel_type=train_tensor_data.edge_type,\n",
    "        tail_index=train_tensor_data.edge_index[1],\n",
    "        batch_size=1000,\n",
    "        shuffle=True,\n",
    "    )\n",
    "\n",
    "    optimizer = optim.Adam(model.parameters(), lr=0.01)\n",
    "\n",
    "    def train():\n",
    "        model.train()\n",
    "        total_loss = total_examples = 0\n",
    "        for head_index, rel_type, tail_index in loader:\n",
    "            optimizer.zero_grad()\n",
    "            loss = model.loss(head_index, rel_type, tail_index)\n",
    "            loss.backward()\n",
    "            optimizer.step()\n",
    "            total_loss += float(loss) * head_index.numel()\n",
    "            total_examples += head_index.numel()\n",
    "        return total_loss / total_examples\n",
    "\n",
    "    @torch.no_grad()\n",
    "    def test(data):\n",
    "        model.eval()\n",
    "        return model.test(\n",
    "            head_index=data.edge_index[0],\n",
    "            rel_type=data.edge_type,\n",
    "            tail_index=data.edge_index[1],\n",
    "            batch_size=1000,\n",
    "            k=10,\n",
    "        )\n",
    "\n",
    "    for epoch in range(1, epoch_count + 1):\n",
    "        loss = train()\n",
    "        print(f\"Epoch: {epoch:03d}, Loss: {loss:.4f}\")\n",
    "        if epoch % 75 == 0:\n",
    "            rank, hits = test(val_tensor_data)\n",
    "            print(\n",
    "                f\"Epoch: {epoch:03d}, Val Mean Rank: {rank:.2f}, \"\n",
    "                f\"Val Hits@10: {hits:.4f}\"\n",
    "            )\n",
    "\n",
    "    torch.save(model, f\"./model_{epoch_count}.pt\")\n",
    "\n",
    "    mean_rank, mrr, hits_at_k = test(test_tensor_data)\n",
    "    print(\n",
    "        f\"Test Mean Rank: {mean_rank:.2f}, Test Hits@10: {hits_at_k:.4f}, MRR: {mrr:.4f}\"\n",
    "    )\n",
    "\n",
    "    return model"
   ]
  },
  {
   "cell_type": "code",
   "execution_count": null,
   "id": "24b11d3e",
   "metadata": {},
   "outputs": [],
   "source": [
    "model = train_model_with_pyg(train_tensor_data, test_tensor_data, val_tensor_data)\n",
    "\n",
    "# The model can be loaded if it was trained before\n",
    "# model = torch.load(\"./model_5.pt\")"
   ]
  },
  {
   "cell_type": "markdown",
   "id": "1bac6ead",
   "metadata": {},
   "source": [
    "Extract node embeddings from the trained model and put them into database:\n"
   ]
  },
  {
   "cell_type": "code",
   "execution_count": null,
   "id": "655f75ae",
   "metadata": {},
   "outputs": [],
   "source": [
    "embeddings = [\n",
    "    {\"id\": i, \"emb\": model.node_emb.weight[i].tolist()}\n",
    "    for i in range(len(nodeId_to_id))\n",
    "]\n",
    "\n",
    "gds.run_cypher(\n",
    "    \"\"\"\n",
    "    UNWIND $rows AS row\n",
    "    MATCH (n:Entity {id: row.id})\n",
    "    SET n.emb = row.emb\n",
    "    \"\"\",\n",
    "    params={\"rows\": embeddings},\n",
    ")"
   ]
  },
  {
   "cell_type": "code",
   "execution_count": null,
   "id": "b0ccb545",
   "metadata": {},
   "outputs": [],
   "source": [
    "relationship_to_predict = \"/film/film/genre\"\n",
    "rel_id_to_predict = rel_dict[relationship_to_predict]\n",
    "rel_label_to_predict = f\"REL_{rel_id_to_predict}\""
   ]
  },
  {
   "cell_type": "code",
   "execution_count": null,
   "id": "5b8d8719",
   "metadata": {},
   "outputs": [],
   "source": [
    "G_test, result = gds.graph.project(\n",
    "    \"graph_to_predict_\",\n",
    "    {\"Entity\": {\"properties\": [\"id\", \"emb\"]}},\n",
    "    rel_label_to_predict,\n",
    ")"
   ]
  },
  {
   "cell_type": "code",
   "execution_count": null,
   "id": "c54e295c",
   "metadata": {},
   "outputs": [],
   "source": [
    "def print_graph_info(G):\n",
    "    print(f\"Graph '{G.name()}' node count: {G.node_count()}\")\n",
    "    print(f\"Graph '{G.name()}' node labels: {G.node_labels()}\")\n",
    "    print(f\"Graph '{G.name()}' relationship types: {G.relationship_types()}\")\n",
    "    print(f\"Graph '{G.name()}' relationship count: {G.relationship_count()}\")"
   ]
  },
  {
   "cell_type": "code",
   "execution_count": null,
   "id": "9b57f219",
   "metadata": {},
   "outputs": [],
   "source": [
    "print_graph_info(G_test)"
   ]
  },
  {
   "cell_type": "code",
   "execution_count": null,
   "id": "39b3a8ec",
   "metadata": {},
   "outputs": [],
   "source": [
    "target_emb = model.node_emb.weight[rel_id_to_predict].tolist()\n",
    "transe_model = gds.model.transe.create(\n",
    "    G_test, \"emb\", {rel_label_to_predict: target_emb}\n",
    ")"
   ]
  },
  {
   "cell_type": "code",
   "execution_count": null,
   "id": "45caa740",
   "metadata": {},
   "outputs": [],
   "source": [
    "source_node_list = [\"/m/07l450\", \"/m/0ds2l81\", \"/m/0jvt9\"]\n",
    "source_ids_df = gds.run_cypher(\n",
    "    \"\"\"\"\n",
    "    UNWIND $node_text_list AS t\n",
    "    MATCH (n:Entity) WHERE n.text=t\n",
    "    RETURN id(n) as nodeId\n",
    "    \"\"\",\n",
    "    params={\"node_text_list\": source_node_list},\n",
    ")"
   ]
  },
  {
   "cell_type": "code",
   "execution_count": null,
   "id": "a1853e42",
   "metadata": {},
   "outputs": [],
   "source": [
    "result = transe_model.predict_stream(\n",
    "    source_node_filter=source_ids_df.nodeId,\n",
    "    target_node_filter=\"Entity\",\n",
    "    relationship_type=rel_label_to_predict,\n",
    "    top_k=3,\n",
    "    concurrency=4,\n",
    ")\n",
    "print(result)"
   ]
  },
  {
   "cell_type": "code",
   "execution_count": null,
   "id": "97f01cc6",
   "metadata": {},
   "outputs": [],
   "source": [
    "ids_in_result = pd.unique(pd.concat([result.sourceNodeId, result.targetNodeId]))\n",
    "\n",
    "ids_to_text = gds.run_cypher(\n",
    "    \"\"\"\n",
    "    UNWIND $ids AS id MATCH (n:Entity) WHERE id(n)=id RETURN id(n) AS nodeId, n.text AS tag, n.id AS id\n",
    "    \"\"\",\n",
    "    params={\"ids\": ids_in_result},\n",
    ")\n",
    "\n",
    "nodeId_to_text_res = dict(zip(ids_to_text.nodeId, ids_to_text.tag))\n",
    "nodeId_to_id_res = dict(zip(ids_to_text.nodeId, ids_to_text.id))\n",
    "\n",
    "result.insert(1, \"sourceTag\", result.sourceNodeId.map(lambda x: nodeId_to_text_res[x]))\n",
    "result.insert(2, \"sourceId\", result.sourceNodeId.map(lambda x: nodeId_to_id_res[x]))\n",
    "result.insert(4, \"targetTag\", result.targetNodeId.map(lambda x: nodeId_to_text_res[x]))\n",
    "result.insert(5, \"targetId\", result.targetNodeId.map(lambda x: nodeId_to_id_res[x]))"
   ]
  },
  {
   "cell_type": "code",
   "execution_count": null,
   "id": "44e3932f",
   "metadata": {},
   "outputs": [],
   "source": [
    "result"
   ]
  },
  {
   "cell_type": "code",
   "execution_count": null,
   "id": "04160dbf",
   "metadata": {},
   "outputs": [],
   "source": [
    "write_relationship_type = \"PREDICTED_\" + rel_label_to_predict\n",
    "result_write = transe_model.predict_write(\n",
    "    source_node_filter=source_ids_df.nodeId,\n",
    "    target_node_filter=\"Entity\",\n",
    "    relationship_type=rel_label_to_predict,\n",
    "    write_relationship_type=write_relationship_type,\n",
    "    write_property=\"transe_score\",\n",
    "    top_k=3,\n",
    "    concurrency=4,\n",
    ")"
   ]
  },
  {
   "cell_type": "code",
   "execution_count": null,
   "id": "01577a02",
   "metadata": {},
   "outputs": [],
   "source": [
    "gds.run_cypher(\n",
    "    \"\"\"\n",
    "    MATCH (n)-[r:{write_relationship_type}]->(m)\n",
    "    RETURN n.id AS sourceId, n.text AS sourceTag, m.id AS targetId, m.text AS targetTag, r.transe_score AS score\n",
    "    \"\"\"\n",
    ")"
   ]
  },
  {
   "cell_type": "code",
   "execution_count": null,
   "id": "7aa91db2",
   "metadata": {},
   "outputs": [],
   "source": [
    "gds.graph.drop(G_test)"
   ]
  },
  {
   "cell_type": "markdown",
   "id": "074e6001",
   "metadata": {},
   "source": [
    "# 5. Large Language Models (LLMs)\n"
   ]
  },
  {
   "cell_type": "markdown",
   "id": "a3667487",
   "metadata": {},
   "source": [
    "<div style=\"\n",
    "  background-color: #fffbe6;\n",
    "  color: #8a6d3b;\n",
    "  border-left: 5px solid #ffcc00;\n",
    "  padding: 12px;\n",
    "  margin-bottom: 16px;\n",
    "  border-radius: 6px;\n",
    "  white-space: pre-wrap;\n",
    "  word-wrap: break-word;\n",
    "  width: 80%;\n",
    "\">\n",
    "  ⚠️ Planning on using Hugging Face API for reranking entities already ranked by previous models.\n",
    "</div>\n"
   ]
  }
 ],
 "metadata": {
  "kernelspec": {
   "display_name": "aai-summit",
   "language": "python",
   "name": "python3"
  },
  "language_info": {
   "codemirror_mode": {
    "name": "ipython",
    "version": 3
   },
   "file_extension": ".py",
   "mimetype": "text/x-python",
   "name": "python",
   "nbconvert_exporter": "python",
   "pygments_lexer": "ipython3",
   "version": "3.10.13"
  }
 },
 "nbformat": 4,
 "nbformat_minor": 5
}
